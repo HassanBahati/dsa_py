{
 "cells": [
  {
   "cell_type": "code",
   "execution_count": 1,
   "id": "fc330c9a",
   "metadata": {},
   "outputs": [
    {
     "name": "stdout",
     "output_type": "stream",
     "text": [
      "You're not going anywhere!\n",
      "Enter the secret word to escape the loop the loop.rwrw\n",
      "You're not going anywhere!\n",
      "Enter the secret word to escape the loop the loop.chupacabra\n",
      "You've successfully left the loop.\n"
     ]
    }
   ],
   "source": [
    "secret_word = \"\"\n",
    "while True:\n",
    "    secret_word = input(\"You're not going anywhere!\\nEnter the secret word to escape the loop the loop.\")\n",
    "    if secret_word == \"chupacabra\":\n",
    "        print(\"You've successfully left the loop.\")\n",
    "        break"
   ]
  },
  {
   "cell_type": "code",
   "execution_count": null,
   "id": "6b243942",
   "metadata": {},
   "outputs": [],
   "source": []
  }
 ],
 "metadata": {
  "kernelspec": {
   "display_name": "Python 3",
   "language": "python",
   "name": "python3"
  },
  "language_info": {
   "codemirror_mode": {
    "name": "ipython",
    "version": 3
   },
   "file_extension": ".py",
   "mimetype": "text/x-python",
   "name": "python",
   "nbconvert_exporter": "python",
   "pygments_lexer": "ipython3",
   "version": "3.8.8"
  }
 },
 "nbformat": 4,
 "nbformat_minor": 5
}
