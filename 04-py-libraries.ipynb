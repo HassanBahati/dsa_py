{
 "cells": [
  {
   "cell_type": "markdown",
   "id": "591ba710",
   "metadata": {},
   "source": [
    "# Libraries and Packages"
   ]
  },
  {
   "cell_type": "markdown",
   "id": "9d9a839f",
   "metadata": {},
   "source": [
    "### Random Module"
   ]
  },
  {
   "cell_type": "code",
   "execution_count": null,
   "id": "9e6813ef",
   "metadata": {},
   "outputs": [],
   "source": [
    "import random  # importing everything from random\n",
    "coin = random.choice([\"heads\", \"tails\"])\n",
    "print(coin)"
   ]
  },
  {
   "cell_type": "code",
   "execution_count": null,
   "id": "57a0d286",
   "metadata": {},
   "outputs": [],
   "source": [
    "from random import choice\n",
    "coin = choice([\"heads\", \"tails\"])  # no need of random.choice()\n",
    "print(coin)"
   ]
  },
  {
   "cell_type": "code",
   "execution_count": null,
   "id": "55db7057",
   "metadata": {},
   "outputs": [],
   "source": [
    "#random.randint(a, b)\n",
    "import random\n",
    "number = random.randint(1, 10)\n",
    "print(number)"
   ]
  },
  {
   "cell_type": "code",
   "execution_count": null,
   "id": "9036c89b",
   "metadata": {},
   "outputs": [],
   "source": [
    "# random.shuffle(x)\n",
    "import random\n",
    "cards = [\"jack\", \"queen\", \"king\"]\n",
    "random.shuffle(cards)\n",
    "for card in cards:\n",
    "    print(card)"
   ]
  },
  {
   "cell_type": "code",
   "execution_count": 7,
   "id": "c414a47f",
   "metadata": {},
   "outputs": [
    {
     "name": "stdout",
     "output_type": "stream",
     "text": [
      "[[11], [16], [1], [7], [5], [3], [9], [0], [8], [12], [13], [18], [2], [17], [4], [6], [19], [10], [15], [14]]\n"
     ]
    }
   ],
   "source": [
    "import random\n",
    "lst = [[i] for i in range(20)]\n",
    "random.shuffle(lst)\n",
    "print(lst)"
   ]
  },
  {
   "cell_type": "code",
   "execution_count": null,
   "id": "d6a8b30d",
   "metadata": {},
   "outputs": [],
   "source": [
    "#You can also select a random number from a given range in steps, using the start, stop, step loop:\"\n",
    "import random\n",
    "for i in range(l0):\n",
    "    print(random.randrange(0, 200, 7))\""
   ]
  },
  {
   "cell_type": "code",
   "execution_count": null,
   "id": "5c8ae8db",
   "metadata": {},
   "outputs": [],
   "source": [
    "from random import randint, randrange # importing more objects at a time"
   ]
  },
  {
   "cell_type": "markdown",
   "id": "e787a5e7",
   "metadata": {},
   "source": [
    "### Statistics Module"
   ]
  },
  {
   "cell_type": "code",
   "execution_count": 5,
   "id": "6ccdbdc0",
   "metadata": {},
   "outputs": [
    {
     "name": "stdout",
     "output_type": "stream",
     "text": [
      "The mean =  55.375\n"
     ]
    }
   ],
   "source": [
    "import statistics\n",
    "grades = [23, 45, 67, 32, 78, 98, 40, 60]\n",
    "meangrade = statistics.mean(grades)\n",
    "print(\"The mean = \", meangrade)"
   ]
  },
  {
   "cell_type": "code",
   "execution_count": 2,
   "id": "0c00e70f",
   "metadata": {},
   "outputs": [
    {
     "data": {
      "text/plain": [
       "3"
      ]
     },
     "execution_count": 2,
     "metadata": {},
     "output_type": "execute_result"
    }
   ],
   "source": [
    "import statistics\n",
    "statistics.median([1,2,3,8,9])"
   ]
  },
  {
   "cell_type": "markdown",
   "id": "0867a6da",
   "metadata": {},
   "source": [
    "### Calendar Module"
   ]
  },
  {
   "cell_type": "code",
   "execution_count": null,
   "id": "aa75ec6f",
   "metadata": {},
   "outputs": [],
   "source": [
    "import calendar\n",
    "sep = calendar.TextCalendar(calendar.SUNDAY)\n",
    "sep.prmonth(2022, 6)\n",
    "#print(calendar.prcal(year)) # to print the calendar of a given year."
   ]
  },
  {
   "cell_type": "code",
   "execution_count": 1,
   "id": "7ea7b6fa",
   "metadata": {},
   "outputs": [
    {
     "name": "stdout",
     "output_type": "stream",
     "text": [
      ">>>>>>>>>>Leap Year Calculator<<<<<<<<<<\n",
      "\n",
      "Enter the first year: 2000\n",
      "Enter the second year: 2022\n",
      "Number of leap years between 2000 and 2022 is: 6\n"
     ]
    }
   ],
   "source": [
    "import calendar\n",
    "# leaps = calendar.leapdays(2010, 2022)\n",
    "# print(leaps)\n",
    "\n",
    "print(\">>>>>>>>>>Leap Year Calculator<<<<<<<<<<\\n\")\n",
    "year1 = int(input(\"Enter the first year: \"))\n",
    "year2 = int(input(\"Enter the second year: \"))\n",
    "leaps = calendar.leapdays(year1, year2)\n",
    "print(\"Number of leap years between\", year1, \"and\",\n",
    "      year2, \"is:\", leaps)"
   ]
  },
  {
   "cell_type": "markdown",
   "id": "c73eb579",
   "metadata": {},
   "source": [
    "### The Math Module"
   ]
  },
  {
   "cell_type": "code",
   "execution_count": null,
   "id": "7193f6c8",
   "metadata": {},
   "outputs": [],
   "source": [
    "import math\n",
    "print (math.pow(2,4)) # output: 16.0\n",
    "math.fabs(-200) # output: 200 - absolute value\n",
    "print(math.factorial(5))"
   ]
  },
  {
   "cell_type": "code",
   "execution_count": null,
   "id": "d36065f8",
   "metadata": {},
   "outputs": [],
   "source": [
    "# use duplicate name or alias name\n",
    "import math as m \n",
    "print (m.sqrt(36))  # output: 16.0"
   ]
  },
  {
   "cell_type": "code",
   "execution_count": null,
   "id": "1ef53386",
   "metadata": {},
   "outputs": [],
   "source": [
    "from math import e\n",
    "print(e) # output: 2.718…"
   ]
  },
  {
   "cell_type": "code",
   "execution_count": null,
   "id": "48fa5058",
   "metadata": {},
   "outputs": [],
   "source": [
    "from math import* # import all the objects from the module math\n",
    "print (floor(2.6), ceil(5.1))  # output: 2 6"
   ]
  },
  {
   "cell_type": "markdown",
   "id": "4e67539b",
   "metadata": {},
   "source": [
    "### Command-line arguments\n",
    "sys.argv argument vector\n",
    "sys.argv is a list in Python, which contains the command-line arguments passed to the script.\n",
    "\n",
    "**Run the following code in VS Code to be able to use command-line arguments.**"
   ]
  },
  {
   "cell_type": "code",
   "execution_count": null,
   "id": "22e6ce53",
   "metadata": {},
   "outputs": [],
   "source": [
    "import sys\n",
    "# at sys.argv[0], the name of the program\n",
    "print(\"Hello, my name is\", sys.argv[1])"
   ]
  },
  {
   "cell_type": "code",
   "execution_count": null,
   "id": "86303dcb",
   "metadata": {},
   "outputs": [],
   "source": [
    "import sys\n",
    "try:\n",
    "    print(\"Hello, my name is\", sys.argv[1])\n",
    "except IndexError:\n",
    "    print(\"No arguments\")"
   ]
  },
  {
   "cell_type": "code",
   "execution_count": null,
   "id": "58452e99",
   "metadata": {},
   "outputs": [],
   "source": [
    "import sys\n",
    "\n",
    "if len(sys.argv) < 2:\n",
    "    print(\"Too few arquments\")\n",
    "elif len(sys.argv) > 2:\n",
    "    print(\"Too many arguments\")\n",
    "else:\n",
    "    print(\"hello, my name is\", sys.argv[1])\n",
    "\n",
    "## you can use single or double quotes while entering the multiple word string. e.g. \"John Paul\""
   ]
  },
  {
   "cell_type": "code",
   "execution_count": null,
   "id": "b817c53b",
   "metadata": {},
   "outputs": [],
   "source": [
    "import sys\n",
    "# use sys.exit() to exit the entire program\n",
    "if len(sys.argv) < 2:\n",
    "    sys.exit(\"Too few arquments\")  \n",
    "elif len(sys.argv) > 2:\n",
    "    sys.exit(\"Too many arguments\")\n",
    "print(\"hello, my name is\", sys.argv[1])"
   ]
  },
  {
   "cell_type": "code",
   "execution_count": null,
   "id": "498d03eb",
   "metadata": {},
   "outputs": [],
   "source": [
    "# entering multiple inputs\n",
    "import sys\n",
    "\n",
    "if len(sys.argv) < 2:\n",
    "    sys.exit(\"Too few arquments\")\n",
    "\n",
    "for arg in sys.argv:\n",
    "    print(\"hello, my name is\", arg)  # bug here it prints from 0 to n"
   ]
  },
  {
   "cell_type": "code",
   "execution_count": null,
   "id": "1a7be38b",
   "metadata": {},
   "outputs": [],
   "source": [
    "# slices - slice of a list\n",
    "import sys\n",
    "\n",
    "if len(sys.argv) < 2:\n",
    "    sys.exit(\"Too few arquments\")\n",
    "    \n",
    "for arg in sys.argv[1:]:  # start from 1 till the end - subsets of the list, try out sys.argv[1:-1]\n",
    "    print(\"hello, my name is\", arg)  # now from 1 index"
   ]
  },
  {
   "cell_type": "markdown",
   "id": "09031805",
   "metadata": {},
   "source": [
    "### Packages - third part libraries\n",
    "e.g. PyPI (Python Package Index) - pypi.org - a repository of software for the Python\n",
    "\n",
    "You can use package manager pip3 to install these packages. "
   ]
  },
  {
   "cell_type": "code",
   "execution_count": null,
   "id": "57ac13fa",
   "metadata": {},
   "outputs": [],
   "source": [
    "# this too needs to run in \n",
    "import cowsay\n",
    "import sys\n",
    "\n",
    "if len(sys.argv) == 2:\n",
    "    #cowsay.cow(\"Hello, \"+ sys.argv[1])\n",
    "    cowsay.trex(\"Hello, \" + sys.argv[1])"
   ]
  },
  {
   "cell_type": "markdown",
   "id": "3fb26897",
   "metadata": {},
   "source": [
    "### Exercise 4\n",
    "\n",
    "1. Write a code where you use the wrong number of arguments for a method (say sqrt() or pow()). Use the exception handling process to catch the ValueError exception.\n",
    "\n",
    "2. Consider the amount of donations received by a charitable organisation given as under:\n",
    "\n",
    "    donations = [100, 60, 70, 900, 100, 200, 500, 500, 503, 600, 1000, 1200]\n",
    "\n",
    "    Now write a Python program to calculate the average amount obtained and median of the above data."
   ]
  }
 ],
 "metadata": {
  "interpreter": {
   "hash": "aee8b7b246df8f9039afb4144a1f6fd8d2ca17a180786b69acc140d282b71a49"
  },
  "kernelspec": {
   "display_name": "Python 3.10.4 64-bit",
   "language": "python",
   "name": "python3"
  },
  "language_info": {
   "codemirror_mode": {
    "name": "ipython",
    "version": 3
   },
   "file_extension": ".py",
   "mimetype": "text/x-python",
   "name": "python",
   "nbconvert_exporter": "python",
   "pygments_lexer": "ipython3",
   "version": "3.10.4"
  }
 },
 "nbformat": 4,
 "nbformat_minor": 5
}
