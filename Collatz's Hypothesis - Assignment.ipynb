{
 "cells": [
  {
   "cell_type": "code",
   "execution_count": 1,
   "id": "37d00161",
   "metadata": {},
   "outputs": [
    {
     "name": "stdout",
     "output_type": "stream",
     "text": [
      "Enter a positive integer: 4\n",
      "2\n",
      "1\n",
      "steps= 2\n"
     ]
    }
   ],
   "source": [
    "# In 1937, a German mathematician named Lothar Collatz formulated an intriguing hypothesis (it still remains unproven) which can be described in the following way:\n",
    "\n",
    "# take any non-negative and non-zero integer number and name it c0;\n",
    "# if it's even, evaluate a new c0 as c0 ÷ 2;\n",
    "# otherwise, if it's odd, evaluate a new c0 as 3 × c0 + 1;\n",
    "# if c0 ≠ 1, skip to point 2.\n",
    "# The hypothesis says that regardless of the initial value of c0, it will always go to 1.\n",
    "\n",
    "# Of course, it's an extremely complex task to use a computer in order to prove the hypothesis for any natural number (it may even require artificial intelligence), but you can use Python to check some individual numbers. Maybe you'll even find the one which would disprove the hypothesis.\n",
    "\n",
    " \n",
    "\n",
    "# Write a program which reads one natural number and executes the above steps as long as c0 remains different from 1. We also want you to count the steps needed to achieve the goal. Your code should output all the intermediate values of c0, too.\n",
    "\n",
    "# Hint: the most important part of the problem is how to transform Collatz's idea into a while loop - this is the key to success.\n",
    "\n",
    "# Test your code using the data we've provided."
   ]
  },
  {
   "cell_type": "code",
   "execution_count": null,
   "id": "09a5c766",
   "metadata": {},
   "outputs": [],
   "source": [
    "n = int(input(\"Enter a positive integer: \"))\n",
    "steps = 0\n",
    "while n != 1:\n",
    "    if n % 2 == 0:\n",
    "        n = n / 2\n",
    "    elif n % 2 == 1:\n",
    "        n = (3*n) + 1\n",
    "    steps += 1\n",
    "    print(int(n))\n",
    "\n",
    "print (\"steps=\",steps)"
   ]
  }
 ],
 "metadata": {
  "kernelspec": {
   "display_name": "Python 3",
   "language": "python",
   "name": "python3"
  },
  "language_info": {
   "codemirror_mode": {
    "name": "ipython",
    "version": 3
   },
   "file_extension": ".py",
   "mimetype": "text/x-python",
   "name": "python",
   "nbconvert_exporter": "python",
   "pygments_lexer": "ipython3",
   "version": "3.8.8"
  }
 },
 "nbformat": 4,
 "nbformat_minor": 5
}
