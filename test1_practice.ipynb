{
 "cells": [
  {
   "cell_type": "code",
   "execution_count": 2,
   "id": "1b0e84f9",
   "metadata": {},
   "outputs": [
    {
     "name": "stdout",
     "output_type": "stream",
     "text": [
      "Please enter a number between 1 and 72\n",
      "Tuesday\n"
     ]
    }
   ],
   "source": [
    "#program that displays day of the week basing on number\n",
    "number = int(input(\"Please enter a number between 1 and 7\"))\n",
    "if number == 1:\n",
    "    print(\"Monday\")\n",
    "elif number == 2:\n",
    "    print(\"Tuesday\")\n",
    "elif number ==3:\n",
    "    print(\"Wednesday\")"
   ]
  },
  {
   "cell_type": "code",
   "execution_count": 3,
   "id": "a7e0f781",
   "metadata": {},
   "outputs": [
    {
     "name": "stdout",
     "output_type": "stream",
     "text": [
      "Please enter a number between 1 and 72\n",
      "Tuesday\n"
     ]
    }
   ],
   "source": [
    "number = int(input(\"Please enter a number between 1 and 7\"))\n",
    "if number == 1:\n",
    "    print(\"Monday\")\n",
    "\n",
    "if number ==2:\n",
    "    print(\"Tuesday\")\n",
    "    \n",
    "if number ==3:\n",
    "    print(\"Wednesday\")\n",
    "    \n"
   ]
  },
  {
   "cell_type": "code",
   "execution_count": 20,
   "id": "d14e0398",
   "metadata": {},
   "outputs": [
    {
     "name": "stdout",
     "output_type": "stream",
     "text": [
      "Please enter a number between 1 and 54\n",
      "Friday\n"
     ]
    }
   ],
   "source": [
    "day=['Monday','Tuesday','Wednesday','Thursday','Friday']\n",
    "number=int(input(\"Please enter a number between 1 and 5\"))\n",
    "print(day[number])"
   ]
  },
  {
   "cell_type": "code",
   "execution_count": null,
   "id": "f20b12e9",
   "metadata": {},
   "outputs": [],
   "source": [
    "cmDistance = int(input(\"Enter a number in cm\"))\n"
   ]
  },
  {
   "cell_type": "code",
   "execution_count": 22,
   "id": "29e92d65",
   "metadata": {},
   "outputs": [
    {
     "name": "stdout",
     "output_type": "stream",
     "text": [
      "Enter an number22\n"
     ]
    },
    {
     "ename": "TypeError",
     "evalue": "unsupported operand type(s) for +: 'float' and 'str'",
     "output_type": "error",
     "traceback": [
      "\u001b[0;31m---------------------------------------------------------------------------\u001b[0m",
      "\u001b[0;31mTypeError\u001b[0m                                 Traceback (most recent call last)",
      "\u001b[0;32m<ipython-input-22-0bda5a3ed03c>\u001b[0m in \u001b[0;36m<module>\u001b[0;34m\u001b[0m\n\u001b[1;32m      1\u001b[0m \u001b[0mdistance\u001b[0m \u001b[0;34m=\u001b[0m \u001b[0mfloat\u001b[0m\u001b[0;34m(\u001b[0m\u001b[0minput\u001b[0m\u001b[0;34m(\u001b[0m\u001b[0;34m\"Enter an number\"\u001b[0m\u001b[0;34m)\u001b[0m\u001b[0;34m)\u001b[0m\u001b[0;34m\u001b[0m\u001b[0;34m\u001b[0m\u001b[0m\n\u001b[0;32m----> 2\u001b[0;31m \u001b[0mprint\u001b[0m\u001b[0;34m(\u001b[0m\u001b[0mdistance\u001b[0m\u001b[0;34m+\u001b[0m\u001b[0;34m\"cm\"\u001b[0m\u001b[0;34m)\u001b[0m\u001b[0;34m\u001b[0m\u001b[0;34m\u001b[0m\u001b[0m\n\u001b[0m",
      "\u001b[0;31mTypeError\u001b[0m: unsupported operand type(s) for +: 'float' and 'str'"
     ]
    }
   ],
   "source": [
    "distance = float(input(\"Enter an number\"))\n",
    "print(str(distance)+\"cm\")\n",
    "print(\"Yo have entered \"+str(distance)+\"cm\")\n",
    "print"
   ]
  },
  {
   "cell_type": "code",
   "execution_count": null,
   "id": "22d8f900",
   "metadata": {},
   "outputs": [],
   "source": []
  }
 ],
 "metadata": {
  "kernelspec": {
   "display_name": "Python 3",
   "language": "python",
   "name": "python3"
  },
  "language_info": {
   "codemirror_mode": {
    "name": "ipython",
    "version": 3
   },
   "file_extension": ".py",
   "mimetype": "text/x-python",
   "name": "python",
   "nbconvert_exporter": "python",
   "pygments_lexer": "ipython3",
   "version": "3.8.8"
  }
 },
 "nbformat": 4,
 "nbformat_minor": 5
}
