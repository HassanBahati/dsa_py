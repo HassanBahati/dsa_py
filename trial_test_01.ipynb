{
 "cells": [
  {
   "cell_type": "code",
   "execution_count": 2,
   "id": "6f5ef24a",
   "metadata": {},
   "outputs": [],
   "source": [
    "# Ask the user if it is raining \n",
    "# and convert their answer to lower case so it doesn’t matter what case they type it in.\n",
    "# If they answer “yes”, ask if it is windy. \n",
    "# If they answer “yes” to this second question, display the answer “It is too windy for an umbrella”, \n",
    "# otherwise display the message “Take an umbrella”. \n",
    "# If they did not answer yes to the first question, display the answer “Enjoy your day”."
   ]
  },
  {
   "cell_type": "code",
   "execution_count": null,
   "id": "1c7e91dc",
   "metadata": {},
   "outputs": [],
   "source": []
  },
  {
   "cell_type": "code",
   "execution_count": 3,
   "id": "c978e88d",
   "metadata": {},
   "outputs": [],
   "source": [
    "# Ask the user to enter their first name. \n",
    "# If the length of their first name is under five characters, ask them to enter their surname \n",
    "# and join them together (without a space) and display the name in upper case. \n",
    "# If the length of the first name is five or more characters, display their first name in lower case."
   ]
  },
  {
   "cell_type": "code",
   "execution_count": null,
   "id": "1342c9ce",
   "metadata": {},
   "outputs": [],
   "source": []
  },
  {
   "cell_type": "code",
   "execution_count": 4,
   "id": "b451aa19",
   "metadata": {},
   "outputs": [],
   "source": [
    "# Ask the user to enter their first name \n",
    "# and then display the length of their first name. \n",
    "# Then ask for their surname and display the length of their surname. \n",
    "# Join their first name and surname together with a space between and display the result. \n",
    "# Finally, display the length of their full name (including the space)"
   ]
  },
  {
   "cell_type": "code",
   "execution_count": null,
   "id": "4fedcf50",
   "metadata": {},
   "outputs": [],
   "source": []
  },
  {
   "cell_type": "code",
   "execution_count": 5,
   "id": "88202f8b",
   "metadata": {},
   "outputs": [],
   "source": [
    "# Ask for the user’s first name \n",
    "# and then ask for their surname and display the output message:Hello [First Name] [Surname]."
   ]
  },
  {
   "cell_type": "code",
   "execution_count": null,
   "id": "77266818",
   "metadata": {},
   "outputs": [],
   "source": []
  },
  {
   "cell_type": "code",
   "execution_count": null,
   "id": "2d3b9b10",
   "metadata": {},
   "outputs": [],
   "source": []
  }
 ],
 "metadata": {
  "kernelspec": {
   "display_name": "Python 3",
   "language": "python",
   "name": "python3"
  },
  "language_info": {
   "codemirror_mode": {
    "name": "ipython",
    "version": 3
   },
   "file_extension": ".py",
   "mimetype": "text/x-python",
   "name": "python",
   "nbconvert_exporter": "python",
   "pygments_lexer": "ipython3",
   "version": "3.8.8"
  }
 },
 "nbformat": 4,
 "nbformat_minor": 5
}
