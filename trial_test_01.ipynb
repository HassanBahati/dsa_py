{
 "cells": [
  {
   "cell_type": "code",
   "execution_count": 2,
   "id": "5dbb844a",
   "metadata": {},
   "outputs": [],
   "source": [
    "# Ask the user if it is raining \n",
    "# and convert their answer to lower case so it doesn’t matter what case they type it in.\n",
    "# If they answer “yes”, ask if it is windy. \n",
    "# If they answer “yes” to this second question, display the answer “It is too windy for an umbrella”, \n",
    "# otherwise display the message “Take an umbrella”. \n",
    "# If they did not answer yes to the first question, display the answer “Enjoy your day”."
   ]
  },
  {
   "cell_type": "code",
   "execution_count": 13,
   "id": "befa12e4",
   "metadata": {},
   "outputs": [
    {
     "name": "stdout",
     "output_type": "stream",
     "text": [
      "Is it raining?yes\n",
      "Is it windy?yes\n",
      "It is too windy for an umbrella\n"
     ]
    }
   ],
   "source": [
    "# ask user if it is raining\n",
    "raining = str(input(\"Is it raining?\"))\n",
    "# convert the user response to lower case\n",
    "raining.lower()\n",
    "\n",
    "if raining == \"yes\":\n",
    "    windy= str(input(\"Is it windy?\"))\n",
    "    windy.lower()\n",
    "    if windy == \"yes\":\n",
    "        print(\"It is too windy for an umbrella\")\n",
    "    else:\n",
    "        print(\"Take an umbrella\")\n",
    "else:\n",
    "    print(\"Enjoy your day\")\n",
    "        "
   ]
  },
  {
   "cell_type": "code",
   "execution_count": 10,
   "id": "0fdc951e",
   "metadata": {},
   "outputs": [],
   "source": [
    "# Ask the user to enter their first name. \n",
    "# If the length of their first name is under five characters, ask them to enter their surname \n",
    "# and join them together (without a space) and display the name in upper case. \n",
    "# If the length of the first name is five or more characters, display their first name in lower case."
   ]
  },
  {
   "cell_type": "code",
   "execution_count": 15,
   "id": "82a104ca",
   "metadata": {},
   "outputs": [
    {
     "name": "stdout",
     "output_type": "stream",
     "text": [
      "Please enter your first name.hassan\n"
     ]
    },
    {
     "ename": "AttributeError",
     "evalue": "'str' object has no attribute 'len'",
     "output_type": "error",
     "traceback": [
      "\u001b[0;31m---------------------------------------------------------------------------\u001b[0m",
      "\u001b[0;31mAttributeError\u001b[0m                            Traceback (most recent call last)",
      "\u001b[0;32m<ipython-input-15-80b8cdbff7b7>\u001b[0m in \u001b[0;36m<module>\u001b[0;34m\u001b[0m\n\u001b[1;32m      3\u001b[0m \u001b[0;34m\u001b[0m\u001b[0m\n\u001b[1;32m      4\u001b[0m \u001b[0;31m# check the length of first name\u001b[0m\u001b[0;34m\u001b[0m\u001b[0;34m\u001b[0m\u001b[0;34m\u001b[0m\u001b[0m\n\u001b[0;32m----> 5\u001b[0;31m \u001b[0mprint\u001b[0m\u001b[0;34m(\u001b[0m\u001b[0mname\u001b[0m\u001b[0;34m.\u001b[0m\u001b[0mlen\u001b[0m\u001b[0;34m(\u001b[0m\u001b[0;34m)\u001b[0m\u001b[0;34m)\u001b[0m\u001b[0;34m\u001b[0m\u001b[0;34m\u001b[0m\u001b[0m\n\u001b[0m",
      "\u001b[0;31mAttributeError\u001b[0m: 'str' object has no attribute 'len'"
     ]
    }
   ],
   "source": [
    "#ask user to enter first name\n",
    "name = str(input(\"Please enter your first name.\"))\n",
    "\n",
    "# check the length of first name \n",
    "print(name.len())"
   ]
  },
  {
   "cell_type": "code",
   "execution_count": 4,
   "id": "d1b7c92b",
   "metadata": {},
   "outputs": [],
   "source": [
    "# Ask the user to enter their first name \n",
    "# and then display the length of their first name. \n",
    "# Then ask for their surname and display the length of their surname. \n",
    "# Join their first name and surname together with a space between and display the result. \n",
    "# Finally, display the length of their full name (including the space)"
   ]
  },
  {
   "cell_type": "code",
   "execution_count": null,
   "id": "26095ca5",
   "metadata": {},
   "outputs": [],
   "source": [
    "first_name = str(input(\"Please enter your first name?\"))\n"
   ]
  },
  {
   "cell_type": "code",
   "execution_count": 5,
   "id": "fbedce51",
   "metadata": {},
   "outputs": [],
   "source": [
    "# Ask for the user’s first name \n",
    "# and then ask for their surname and display the output message:Hello [First Name] [Surname]."
   ]
  },
  {
   "cell_type": "code",
   "execution_count": null,
   "id": "0c80abd7",
   "metadata": {},
   "outputs": [],
   "source": [
    "first_name = str(input(\"Please enter your first name?\"))\n",
    "\n",
    "print(f\"Hello \")"
   ]
  },
  {
   "cell_type": "code",
   "execution_count": null,
   "id": "838cd04e",
   "metadata": {},
   "outputs": [],
   "source": []
  }
 ],
 "metadata": {
  "kernelspec": {
   "display_name": "Python 3",
   "language": "python",
   "name": "python3"
  },
  "language_info": {
   "codemirror_mode": {
    "name": "ipython",
    "version": 3
   },
   "file_extension": ".py",
   "mimetype": "text/x-python",
   "name": "python",
   "nbconvert_exporter": "python",
   "pygments_lexer": "ipython3",
   "version": "3.8.8"
  }
 },
 "nbformat": 4,
 "nbformat_minor": 5
}
