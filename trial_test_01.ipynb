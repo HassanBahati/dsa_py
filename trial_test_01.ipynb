{
 "cells": [
  {
   "cell_type": "markdown",
   "id": "8fec0268",
   "metadata": {},
   "source": [
    "Ask the user if it is raining \n",
    "and convert their answer to lower case so it doesn’t matter what case they type it in.\n",
    "If they answer “yes”, ask if it is windy. \n",
    "If they answer “yes” to this second question, display the answer “It is too windy for an umbrella”, \n",
    "otherwise display the message “Take an umbrella”. \n",
    "If they did not answer yes to the first question, display the answer “Enjoy your day”."
   ]
  },
  {
   "cell_type": "code",
   "execution_count": null,
   "id": "4c9d1e0d",
   "metadata": {},
   "outputs": [],
   "source": [
    "# ask user if it is raining\n",
    "raining = str(input(\"Is it raining?\"))\n",
    "# convert the user response to lower case\n",
    "raining.lower()\n",
    "\n",
    "if raining == \"yes\":\n",
    "    windy= str(input(\"Is it windy?\"))\n",
    "    windy.lower()\n",
    "    if windy == \"yes\":\n",
    "        print(\"It is too windy for an umbrella\")\n",
    "    else:\n",
    "        print(\"Take an umbrella\")\n",
    "else:\n",
    "    print(\"Enjoy your day\")\n",
    "        "
   ]
  },
  {
   "cell_type": "markdown",
   "id": "9b17edc9",
   "metadata": {},
   "source": [
    "Ask the user to enter their first name. \n",
    "If the length of their first name is under five characters, ask them to enter their surname \n",
    "and join them together (without a space) and display the name in upper case. \n",
    "If the length of the first name is five or more characters, display their first name in lower case."
   ]
  },
  {
   "cell_type": "code",
   "execution_count": null,
   "id": "58089eb1",
   "metadata": {},
   "outputs": [],
   "source": [
    "#ask user to enter first name\n",
    "first_name = str(input(\"Please enter your first name.\"))\n",
    "\n",
    "# check the length of first name \n",
    "if len(first_name) < 5:\n",
    "    surname = str(input(\"Please enter your surname.\"))\n",
    "    print(first_name+\"\"+surname)\n",
    "else:\n",
    "    print(first_name.lower())"
   ]
  },
  {
   "cell_type": "markdown",
   "id": "e0c5e796",
   "metadata": {},
   "source": [
    "Ask the user to enter their first name \n",
    "and then display the length of their first name. \n",
    "Then ask for their surname and display the length of their surname. \n",
    "Join their first name and surname together with a space between and display the result. \n",
    "Finally, display the length of their full name (including the space)"
   ]
  },
  {
   "cell_type": "code",
   "execution_count": 36,
   "id": "b0a0a67b",
   "metadata": {},
   "outputs": [
    {
     "name": "stdout",
     "output_type": "stream",
     "text": [
      "Please enter your first name?hassan\n",
      "The length of your first name is 6\n",
      "please enter your surname?bahati\n",
      "The length of your surname is 6\n",
      "Your full name is hassan bahati\n",
      "The length of your full name is 13\n"
     ]
    }
   ],
   "source": [
    "first_name = str(input(\"Please enter your first name?\"))\n",
    "print(f\"The length of your first name is {len(first_name)}\")\n",
    "\n",
    "surname=str(input(\"please enter your surname?\"))\n",
    "print(f\"The length of your surname is {len(surname)}\")\n",
    "\n",
    "name=first_name+\" \"+surname\n",
    "\n",
    "print(f\"Your full name is {name}\")\n",
    "\n",
    "print(f\"The length of your full name is {len(name)}\")"
   ]
  },
  {
   "cell_type": "markdown",
   "id": "c776e91b",
   "metadata": {},
   "source": [
    "Ask for the user’s first name \n",
    "and then ask for their surname and display the output message:Hello [First Name] [Surname]."
   ]
  },
  {
   "cell_type": "code",
   "execution_count": 16,
   "id": "b55baa0a",
   "metadata": {},
   "outputs": [
    {
     "name": "stdout",
     "output_type": "stream",
     "text": [
      "Please enter your first name?hassan\n",
      "Please enter your surname?bahati\n",
      "Hello hassan bahati\n"
     ]
    }
   ],
   "source": [
    "#ask user for first name \n",
    "first_name = str(input(\"Please enter your first name?\"))\n",
    "#ask user for surname\n",
    "surname = str(input(\"Please enter your surname?\"))\n",
    "#print user name \n",
    "print(f\"Hello {first_name} {surname}\")\n"
   ]
  },
  {
   "cell_type": "markdown",
   "id": "b1df027d",
   "metadata": {},
   "source": [
    "Ask the user to enter their first name \n",
    "and then ask them to enter their surname. \n",
    "Join them together with a space between and display the name and the length of whole name."
   ]
  },
  {
   "cell_type": "code",
   "execution_count": 39,
   "id": "c3f126c7",
   "metadata": {},
   "outputs": [
    {
     "name": "stdout",
     "output_type": "stream",
     "text": [
      "Please enter your first namehassan\n",
      "Please enter your surnamebahati\n",
      "hassan bahati\n",
      "The length of your name is 13\n"
     ]
    }
   ],
   "source": [
    "# get firstname\n",
    "first_name = str(input(\"Please enter your first name\"))\n",
    "\n",
    "#get surname\n",
    "surname = str(input(\"Please enter your surname\"))\n",
    "\n",
    "#join full name \n",
    "name= first_name+\" \"+surname\n",
    "\n",
    "#print full name\n",
    "print(name)\n",
    "#print length of full name \n",
    "print(f\"The length of your name is {len(name)}\")"
   ]
  },
  {
   "cell_type": "markdown",
   "id": "11dbd682",
   "metadata": {},
   "source": [
    "Ask the user to enter their name and then display their name three times.\n"
   ]
  },
  {
   "cell_type": "code",
   "execution_count": null,
   "id": "f811741c",
   "metadata": {},
   "outputs": [],
   "source": [
    "# get user name \n",
    "name = str(input(\"Please enter your name\"))\n",
    "\n",
    "#print name 3 times \n",
    "print(name*3)"
   ]
  },
  {
   "cell_type": "markdown",
   "id": "f70aff85",
   "metadata": {},
   "source": [
    "Ask the user to enter their name and display each letter in their name on a separate line.\n"
   ]
  },
  {
   "cell_type": "code",
   "execution_count": 44,
   "id": "3c1e605f",
   "metadata": {},
   "outputs": [
    {
     "name": "stdout",
     "output_type": "stream",
     "text": [
      "Please enter your namehassan\n",
      "h\n",
      "a\n",
      "s\n",
      "s\n",
      "a\n",
      "n\n"
     ]
    }
   ],
   "source": [
    "name = str(input(\"Please enter your name\"))\n",
    "\n",
    "for char in name:\n",
    "    print(char)"
   ]
  },
  {
   "cell_type": "markdown",
   "id": "91d9328d",
   "metadata": {},
   "source": [
    "Display a random integer between 1 and 100 inclusive"
   ]
  },
  {
   "cell_type": "code",
   "execution_count": null,
   "id": "27f13f8e",
   "metadata": {},
   "outputs": [],
   "source": []
  },
  {
   "cell_type": "markdown",
   "id": "e580a24a",
   "metadata": {},
   "source": [
    "Randomly choose either heads or tails (“h” or “t”). \n",
    "Ask the user to make their choice.\n",
    "If their choice is the same as the randomly selected value,\n",
    "display the message “You win”, otherwise display “Bad luck”. \n",
    "At the end, tell the user if the computer selected heads or tails."
   ]
  },
  {
   "cell_type": "code",
   "execution_count": null,
   "id": "028bfc3a",
   "metadata": {},
   "outputs": [],
   "source": []
  },
  {
   "cell_type": "markdown",
   "id": "d015012c",
   "metadata": {},
   "source": [
    " Ask the user to enter a number between 10 and 20. \n",
    "If they enter a value under 10, display the message “Too low” and ask them to try again. \n",
    "If they enter a value above 20, display the message “Too high” and ask them to try again. \n",
    "Keep repeating this until they enter a value that is between 10 and 20 and then display the message “Thank you”."
   ]
  },
  {
   "cell_type": "code",
   "execution_count": null,
   "id": "1d70bab0",
   "metadata": {},
   "outputs": [],
   "source": []
  },
  {
   "cell_type": "markdown",
   "id": "dbd8ac10",
   "metadata": {},
   "source": [
    "Display the following message: \"1. SQUARE OR 2.TRIANGLE: ENTER A NUMBER=\" \n",
    "If the user enters 1, then it should ask them for the length of one of its sides and display the area.\n",
    "If they select 2, it should ask for the base and height of the triangle and display the area.\n",
    "If they type in anything else, it should give them a suitable error message."
   ]
  },
  {
   "cell_type": "code",
   "execution_count": null,
   "id": "beb06f49",
   "metadata": {},
   "outputs": [],
   "source": []
  },
  {
   "cell_type": "markdown",
   "id": "8d0f532d",
   "metadata": {},
   "source": [
    "Set the total to 0 to start with. \n",
    "While the total is 50 or less, ask the user to input a number.\n",
    "Add that number to the total and print the message “The total is… [total]”. \n",
    "Stop the loop when the total is over 50."
   ]
  },
  {
   "cell_type": "code",
   "execution_count": null,
   "id": "6ef7f0ac",
   "metadata": {},
   "outputs": [],
   "source": []
  },
  {
   "cell_type": "markdown",
   "id": "56ea8d27",
   "metadata": {},
   "source": [
    "Set a variable called total to 0. \n",
    "Ask the user to enter five numbers and after each input ask them if they want that number included. \n",
    "If they do, then add the number to the total. If they do not want it included, don’t add it to the total. \n",
    "After they have entered all five numbers, display the total."
   ]
  },
  {
   "cell_type": "code",
   "execution_count": null,
   "id": "558dfb61",
   "metadata": {},
   "outputs": [],
   "source": []
  },
  {
   "cell_type": "markdown",
   "id": "e4f60b6e",
   "metadata": {},
   "source": [
    "Ask the user’s age.\n",
    "If they are 18 or over, display the message “You can vote”,\n",
    "if they are aged 17, display the message “You can learn to drive”, \n",
    "if they are 16, display the message “You can buy a lottery ticket”,\n",
    "if they are under 16, display the message “You can go Trick- or-Treating”."
   ]
  },
  {
   "cell_type": "code",
   "execution_count": null,
   "id": "6683f005",
   "metadata": {},
   "outputs": [],
   "source": []
  },
  {
   "cell_type": "markdown",
   "id": "3e903e0a",
   "metadata": {},
   "source": [
    "Ask for two numbers. \n",
    "If the first one is larger than the second,\n",
    "display the second number first and then the first number,\n",
    "otherwise show the first number first and then the second."
   ]
  },
  {
   "cell_type": "code",
   "execution_count": null,
   "id": "63d90c01",
   "metadata": {},
   "outputs": [],
   "source": []
  },
  {
   "cell_type": "code",
   "execution_count": null,
   "id": "35b7d684",
   "metadata": {},
   "outputs": [],
   "source": [
    "first_name = str(input(\"Enter your first name \"))\n",
    "surname = str(input('Enter your surname '))\n",
    "age = int(input(\"Enter your age \"))\n",
    "year_of_birth = int(input(\"Enter your year of birth \"))\n",
    "date_of_birth =int(input(\"Enter your date of birth \"))\n",
    "month_of_birth = str(input(\"Enter your month of birth \"))\n",
    "height=int(input(\"How tall are you \"))\n",
    "\n",
    "print(f\"My name is {first_name} {surname}\\nI am {height}cm tall\\nMy birthday is {date_of_birth}/{month_of_birth}/{year_of_birth}\")\n"
   ]
  },
  {
   "cell_type": "code",
   "execution_count": null,
   "id": "a71cebc4",
   "metadata": {},
   "outputs": [],
   "source": []
  },
  {
   "cell_type": "code",
   "execution_count": 51,
   "id": "79edeb9d",
   "metadata": {},
   "outputs": [
    {
     "name": "stdout",
     "output_type": "stream",
     "text": [
      "Please enter \n",
      "hassan\n",
      "Please enter surname\n",
      "bahati\n",
      "hello [first_name] [surname]\n",
      "hassan\n"
     ]
    }
   ],
   "source": [
    "first_name = input(\"Enter your first name\")\n",
    "last_name = input(\"Enter your last name\")\n",
    "print(\"fi\")"
   ]
  },
  {
   "cell_type": "code",
   "execution_count": null,
   "id": "bcd1aff9",
   "metadata": {},
   "outputs": [],
   "source": []
  }
 ],
 "metadata": {
  "kernelspec": {
   "display_name": "Python 3",
   "language": "python",
   "name": "python3"
  },
  "language_info": {
   "codemirror_mode": {
    "name": "ipython",
    "version": 3
   },
   "file_extension": ".py",
   "mimetype": "text/x-python",
   "name": "python",
   "nbconvert_exporter": "python",
   "pygments_lexer": "ipython3",
   "version": "3.8.8"
  },
  "vscode": {
   "interpreter": {
    "hash": "15b1a4403015da6acc853262eecc2545bde0ffd4fa5bb8e39e630c5bbdeab1e3"
   }
  }
 },
 "nbformat": 4,
 "nbformat_minor": 5
}
