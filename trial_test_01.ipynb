{
 "cells": [
  {
   "cell_type": "code",
   "execution_count": 2,
   "id": "fe4feb1c",
   "metadata": {},
   "outputs": [],
   "source": [
    "# Ask the user if it is raining \n",
    "# and convert their answer to lower case so it doesn’t matter what case they type it in.\n",
    "# If they answer “yes”, ask if it is windy. \n",
    "# If they answer “yes” to this second question, display the answer “It is too windy for an umbrella”, \n",
    "# otherwise display the message “Take an umbrella”. \n",
    "# If they did not answer yes to the first question, display the answer “Enjoy your day”."
   ]
  },
  {
   "cell_type": "code",
   "execution_count": 13,
   "id": "d96eac0c",
   "metadata": {},
   "outputs": [
    {
     "name": "stdout",
     "output_type": "stream",
     "text": [
      "Is it raining?yes\n",
      "Is it windy?yes\n",
      "It is too windy for an umbrella\n"
     ]
    }
   ],
   "source": [
    "# ask user if it is raining\n",
    "raining = str(input(\"Is it raining?\"))\n",
    "# convert the user response to lower case\n",
    "raining.lower()\n",
    "\n",
    "if raining == \"yes\":\n",
    "    windy= str(input(\"Is it windy?\"))\n",
    "    windy.lower()\n",
    "    if windy == \"yes\":\n",
    "        print(\"It is too windy for an umbrella\")\n",
    "    else:\n",
    "        print(\"Take an umbrella\")\n",
    "else:\n",
    "    print(\"Enjoy your day\")\n",
    "        "
   ]
  },
  {
   "cell_type": "code",
   "execution_count": 10,
   "id": "daee171d",
   "metadata": {},
   "outputs": [],
   "source": [
    "# Ask the user to enter their first name. \n",
    "# If the length of their first name is under five characters, ask them to enter their surname \n",
    "# and join them together (without a space) and display the name in upper case. \n",
    "# If the length of the first name is five or more characters, display their first name in lower case."
   ]
  },
  {
   "cell_type": "code",
   "execution_count": null,
   "id": "58089eb1",
   "metadata": {},
   "outputs": [],
   "source": [
    "#ask user to enter first name\n",
    "first_name = str(input(\"Please enter your first name.\"))\n",
    "\n",
    "# check the length of first name \n",
    "if len(first_name) < 5:\n",
    "    surname = str(input(\"Please enter your surname.\"))\n",
    "    print(first_name+\"\"+surname)\n",
    "else:\n",
    "    print(first_name.lower())"
   ]
  },
  {
   "cell_type": "code",
   "execution_count": 33,
   "id": "3b199496",
   "metadata": {},
   "outputs": [],
   "source": [
    "# Ask the user to enter their first name \n",
    "# and then display the length of their first name. \n",
    "# Then ask for their surname and display the length of their surname. \n",
    "# Join their first name and surname together with a space between and display the result. \n",
    "# Finally, display the length of their full name (including the space)"
   ]
  },
  {
   "cell_type": "code",
   "execution_count": 36,
   "id": "b0a0a67b",
   "metadata": {},
   "outputs": [
    {
     "name": "stdout",
     "output_type": "stream",
     "text": [
      "Please enter your first name?hassan\n",
      "The length of your first name is 6\n",
      "please enter your surname?bahati\n",
      "The length of your surname is 6\n",
      "Your full name is hassan bahati\n",
      "The length of your full name is 13\n"
     ]
    }
   ],
   "source": [
    "first_name = str(input(\"Please enter your first name?\"))\n",
    "print(f\"The length of your first name is {len(first_name)}\")\n",
    "\n",
    "surname=str(input(\"please enter your surname?\"))\n",
    "print(f\"The length of your surname is {len(surname)}\")\n",
    "\n",
    "name=first_name+\" \"+surname\n",
    "\n",
    "print(f\"Your full name is {name}\")\n",
    "\n",
    "print(f\"The length of your full name is {len(name)}\")"
   ]
  },
  {
   "cell_type": "code",
   "execution_count": 5,
   "id": "77cdd6f0",
   "metadata": {},
   "outputs": [],
   "source": [
    "# Ask for the user’s first name \n",
    "# and then ask for their surname and display the output message:Hello [First Name] [Surname]."
   ]
  },
  {
   "cell_type": "code",
   "execution_count": 16,
   "id": "b55baa0a",
   "metadata": {},
   "outputs": [
    {
     "name": "stdout",
     "output_type": "stream",
     "text": [
      "Please enter your first name?hassan\n",
      "Please enter your surname?bahati\n",
      "Hello hassan bahati\n"
     ]
    }
   ],
   "source": [
    "#ask user for first name \n",
    "first_name = str(input(\"Please enter your first name?\"))\n",
    "#ask user for surname\n",
    "surname = str(input(\"Please enter your surname?\"))\n",
    "#print user name \n",
    "print(f\"Hello {first_name} {surname}\")\n"
   ]
  },
  {
   "cell_type": "code",
   "execution_count": 37,
   "id": "372c841c",
   "metadata": {},
   "outputs": [],
   "source": [
    "# Ask the user to enter their first name \n",
    "# and then ask them to enter their surname. \n",
    "# Join them together with a space between and display the name and the length of whole name."
   ]
  },
  {
   "cell_type": "code",
   "execution_count": 39,
   "id": "4a7010ad",
   "metadata": {},
   "outputs": [
    {
     "name": "stdout",
     "output_type": "stream",
     "text": [
      "Please enter your first namehassan\n",
      "Please enter your surnamebahati\n",
      "hassan bahati\n",
      "The length of your name is 13\n"
     ]
    }
   ],
   "source": [
    "first_name = str(input(\"Please enter your first name\"))\n",
    "\n",
    "surname = str(input(\"Please enter your surname\"))\n",
    "\n",
    "name= first_name+\" \"+surname\n",
    "\n",
    "print(name)\n",
    "print(f\"The length of your name is {len(name)}\")"
   ]
  },
  {
   "cell_type": "code",
   "execution_count": null,
   "id": "f5f5af2f",
   "metadata": {},
   "outputs": [],
   "source": []
  }
 ],
 "metadata": {
  "kernelspec": {
   "display_name": "Python 3",
   "language": "python",
   "name": "python3"
  },
  "language_info": {
   "codemirror_mode": {
    "name": "ipython",
    "version": 3
   },
   "file_extension": ".py",
   "mimetype": "text/x-python",
   "name": "python",
   "nbconvert_exporter": "python",
   "pygments_lexer": "ipython3",
   "version": "3.8.8"
  }
 },
 "nbformat": 4,
 "nbformat_minor": 5
}
