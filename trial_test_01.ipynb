{
 "cells": [
  {
   "cell_type": "code",
   "execution_count": 2,
   "id": "0a09d600",
   "metadata": {},
   "outputs": [],
   "source": [
    "# Ask the user if it is raining \n",
    "# and convert their answer to lower case so it doesn’t matter what case they type it in.\n",
    "# If they answer “yes”, ask if it is windy. \n",
    "# If they answer “yes” to this second question, display the answer “It is too windy for an umbrella”, \n",
    "# otherwise display the message “Take an umbrella”. \n",
    "# If they did not answer yes to the first question, display the answer “Enjoy your day”."
   ]
  },
  {
   "cell_type": "code",
   "execution_count": 11,
   "id": "60307846",
   "metadata": {},
   "outputs": [
    {
     "name": "stdout",
     "output_type": "stream",
     "text": [
      "Is it raining?yes\n",
      "ask if it is raining\n"
     ]
    }
   ],
   "source": [
    "# ask user if it is raining\n",
    "raining = str(input(\"Is it raining?\"))\n",
    "# convert the user response to lower case\n",
    "raining.lower()\n",
    "\n",
    "if raining == \"yes\":\n",
    "    windy= str(input(\"Is it windy?\"))\n",
    "    if \n",
    "    "
   ]
  },
  {
   "cell_type": "code",
   "execution_count": 10,
   "id": "43764c51",
   "metadata": {},
   "outputs": [],
   "source": [
    "# Ask the user to enter their first name. \n",
    "# If the length of their first name is under five characters, ask them to enter their surname \n",
    "# and join them together (without a space) and display the name in upper case. \n",
    "# If the length of the first name is five or more characters, display their first name in lower case."
   ]
  },
  {
   "cell_type": "code",
   "execution_count": null,
   "id": "7fafd36b",
   "metadata": {},
   "outputs": [],
   "source": []
  },
  {
   "cell_type": "code",
   "execution_count": 4,
   "id": "489b3b66",
   "metadata": {},
   "outputs": [],
   "source": [
    "# Ask the user to enter their first name \n",
    "# and then display the length of their first name. \n",
    "# Then ask for their surname and display the length of their surname. \n",
    "# Join their first name and surname together with a space between and display the result. \n",
    "# Finally, display the length of their full name (including the space)"
   ]
  },
  {
   "cell_type": "code",
   "execution_count": null,
   "id": "f7bd07b1",
   "metadata": {},
   "outputs": [],
   "source": []
  },
  {
   "cell_type": "code",
   "execution_count": 5,
   "id": "0013fd0d",
   "metadata": {},
   "outputs": [],
   "source": [
    "# Ask for the user’s first name \n",
    "# and then ask for their surname and display the output message:Hello [First Name] [Surname]."
   ]
  },
  {
   "cell_type": "code",
   "execution_count": null,
   "id": "0f6b4f6e",
   "metadata": {},
   "outputs": [],
   "source": []
  },
  {
   "cell_type": "code",
   "execution_count": null,
   "id": "b355eae0",
   "metadata": {},
   "outputs": [],
   "source": []
  }
 ],
 "metadata": {
  "kernelspec": {
   "display_name": "Python 3",
   "language": "python",
   "name": "python3"
  },
  "language_info": {
   "codemirror_mode": {
    "name": "ipython",
    "version": 3
   },
   "file_extension": ".py",
   "mimetype": "text/x-python",
   "name": "python",
   "nbconvert_exporter": "python",
   "pygments_lexer": "ipython3",
   "version": "3.8.8"
  }
 },
 "nbformat": 4,
 "nbformat_minor": 5
}
