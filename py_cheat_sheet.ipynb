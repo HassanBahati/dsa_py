{
 "cells": [
  {
   "cell_type": "code",
   "execution_count": 3,
   "id": "b84cce81",
   "metadata": {},
   "outputs": [],
   "source": [
    "#lower case"
   ]
  },
  {
   "cell_type": "code",
   "execution_count": 2,
   "id": "6489efb5",
   "metadata": {},
   "outputs": [],
   "source": []
  },
  {
   "cell_type": "code",
   "execution_count": 4,
   "id": "8dfbf610",
   "metadata": {},
   "outputs": [],
   "source": [
    "#upper case"
   ]
  },
  {
   "cell_type": "code",
   "execution_count": null,
   "id": "c97e6eda",
   "metadata": {},
   "outputs": [],
   "source": []
  },
  {
   "cell_type": "code",
   "execution_count": 5,
   "id": "c768cddb",
   "metadata": {},
   "outputs": [],
   "source": [
    "#length of a string "
   ]
  },
  {
   "cell_type": "code",
   "execution_count": null,
   "id": "691588c2",
   "metadata": {},
   "outputs": [],
   "source": []
  },
  {
   "cell_type": "code",
   "execution_count": 6,
   "id": "79f0223e",
   "metadata": {},
   "outputs": [],
   "source": [
    "#join strings \n"
   ]
  },
  {
   "cell_type": "code",
   "execution_count": null,
   "id": "4c4d93e4",
   "metadata": {},
   "outputs": [],
   "source": []
  },
  {
   "cell_type": "code",
   "execution_count": 7,
   "id": "7d4750fc",
   "metadata": {},
   "outputs": [],
   "source": [
    "#concatenate"
   ]
  },
  {
   "cell_type": "code",
   "execution_count": null,
   "id": "073a65cb",
   "metadata": {},
   "outputs": [],
   "source": []
  },
  {
   "cell_type": "code",
   "execution_count": 8,
   "id": "37f5d269",
   "metadata": {},
   "outputs": [],
   "source": [
    "#dates"
   ]
  },
  {
   "cell_type": "code",
   "execution_count": null,
   "id": "74641fcb",
   "metadata": {},
   "outputs": [],
   "source": []
  },
  {
   "cell_type": "markdown",
   "id": "a65c9ece",
   "metadata": {},
   "source": [
    "## Escape characters \n"
   ]
  },
  {
   "cell_type": "markdown",
   "id": "4419abee",
   "metadata": {},
   "source": []
  }
 ],
 "metadata": {
  "kernelspec": {
   "display_name": "Python 3",
   "language": "python",
   "name": "python3"
  },
  "language_info": {
   "codemirror_mode": {
    "name": "ipython",
    "version": 3
   },
   "file_extension": ".py",
   "mimetype": "text/x-python",
   "name": "python",
   "nbconvert_exporter": "python",
   "pygments_lexer": "ipython3",
   "version": "3.8.8"
  }
 },
 "nbformat": 4,
 "nbformat_minor": 5
}
