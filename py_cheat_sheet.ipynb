{
 "cells": [
  {
   "cell_type": "code",
   "execution_count": 3,
   "id": "29b104f4",
   "metadata": {},
   "outputs": [],
   "source": [
    "#lower case"
   ]
  },
  {
   "cell_type": "code",
   "execution_count": 2,
   "id": "b119d65e",
   "metadata": {},
   "outputs": [],
   "source": []
  },
  {
   "cell_type": "code",
   "execution_count": 4,
   "id": "b882b6b7",
   "metadata": {},
   "outputs": [],
   "source": [
    "#upper case"
   ]
  },
  {
   "cell_type": "code",
   "execution_count": null,
   "id": "320f17b8",
   "metadata": {},
   "outputs": [],
   "source": []
  },
  {
   "cell_type": "code",
   "execution_count": 5,
   "id": "bb4a10ce",
   "metadata": {},
   "outputs": [],
   "source": [
    "#length of a string "
   ]
  },
  {
   "cell_type": "code",
   "execution_count": null,
   "id": "583832e1",
   "metadata": {},
   "outputs": [],
   "source": []
  },
  {
   "cell_type": "code",
   "execution_count": null,
   "id": "cd736d96",
   "metadata": {},
   "outputs": [],
   "source": []
  }
 ],
 "metadata": {
  "kernelspec": {
   "display_name": "Python 3",
   "language": "python",
   "name": "python3"
  },
  "language_info": {
   "codemirror_mode": {
    "name": "ipython",
    "version": 3
   },
   "file_extension": ".py",
   "mimetype": "text/x-python",
   "name": "python",
   "nbconvert_exporter": "python",
   "pygments_lexer": "ipython3",
   "version": "3.8.8"
  }
 },
 "nbformat": 4,
 "nbformat_minor": 5
}
