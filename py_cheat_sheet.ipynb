{
 "cells": [
  {
   "cell_type": "code",
   "execution_count": 3,
   "id": "c8fdc30d",
   "metadata": {},
   "outputs": [],
   "source": [
    "#lower case"
   ]
  },
  {
   "cell_type": "code",
   "execution_count": 2,
   "id": "5ad4dab1",
   "metadata": {},
   "outputs": [],
   "source": []
  },
  {
   "cell_type": "code",
   "execution_count": 4,
   "id": "d1bae546",
   "metadata": {},
   "outputs": [],
   "source": [
    "#upper case"
   ]
  },
  {
   "cell_type": "code",
   "execution_count": null,
   "id": "4da3fe43",
   "metadata": {},
   "outputs": [],
   "source": []
  },
  {
   "cell_type": "code",
   "execution_count": 5,
   "id": "a0e5ff50",
   "metadata": {},
   "outputs": [],
   "source": [
    "#length of a string "
   ]
  },
  {
   "cell_type": "code",
   "execution_count": null,
   "id": "84d359fa",
   "metadata": {},
   "outputs": [],
   "source": []
  },
  {
   "cell_type": "code",
   "execution_count": 6,
   "id": "28abafa3",
   "metadata": {},
   "outputs": [],
   "source": [
    "#join strings \n"
   ]
  },
  {
   "cell_type": "code",
   "execution_count": null,
   "id": "1d9149e6",
   "metadata": {},
   "outputs": [],
   "source": []
  },
  {
   "cell_type": "code",
   "execution_count": null,
   "id": "6016912b",
   "metadata": {},
   "outputs": [],
   "source": [
    "#concatenate"
   ]
  }
 ],
 "metadata": {
  "kernelspec": {
   "display_name": "Python 3",
   "language": "python",
   "name": "python3"
  },
  "language_info": {
   "codemirror_mode": {
    "name": "ipython",
    "version": 3
   },
   "file_extension": ".py",
   "mimetype": "text/x-python",
   "name": "python",
   "nbconvert_exporter": "python",
   "pygments_lexer": "ipython3",
   "version": "3.8.8"
  }
 },
 "nbformat": 4,
 "nbformat_minor": 5
}
