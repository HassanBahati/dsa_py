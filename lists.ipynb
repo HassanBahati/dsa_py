{
 "cells": [
  {
   "cell_type": "markdown",
   "id": "14074ddd",
   "metadata": {},
   "source": [
    "# LISTS [ ]"
   ]
  },
  {
   "cell_type": "markdown",
   "id": "08f9d77f",
   "metadata": {},
   "source": [
    "Lists are mutable ie the contents can be changed <br>\n",
    "Lists allow duplicates <br>\n",
    "Lists are ordered\n",
    "\n",
    "\n"
   ]
  },
  {
   "cell_type": "code",
   "execution_count": 1,
   "id": "de75984b",
   "metadata": {},
   "outputs": [],
   "source": [
    "coffee = ['arabica', 'robusta', 'morgus']"
   ]
  },
  {
   "cell_type": "code",
   "execution_count": 2,
   "id": "c651dee9",
   "metadata": {},
   "outputs": [
    {
     "data": {
      "text/plain": [
       "list"
      ]
     },
     "execution_count": 2,
     "metadata": {},
     "output_type": "execute_result"
    }
   ],
   "source": [
    "# check the data type\n",
    "type(coffee)"
   ]
  },
  {
   "cell_type": "markdown",
   "id": "ca308403",
   "metadata": {},
   "source": [
    "index- position of an element in a given list \n"
   ]
  },
  {
   "cell_type": "code",
   "execution_count": 3,
   "id": "38a441ef",
   "metadata": {},
   "outputs": [
    {
     "data": {
      "text/plain": [
       "'arabica'"
      ]
     },
     "execution_count": 3,
     "metadata": {},
     "output_type": "execute_result"
    }
   ],
   "source": [
    "coffee[0]"
   ]
  },
  {
   "cell_type": "code",
   "execution_count": 4,
   "id": "a46d50af",
   "metadata": {},
   "outputs": [
    {
     "data": {
      "text/plain": [
       "False"
      ]
     },
     "execution_count": 4,
     "metadata": {},
     "output_type": "execute_result"
    }
   ],
   "source": [
    "# check if an element exists in a list\n",
    "\"Morgus\" in coffee"
   ]
  },
  {
   "cell_type": "code",
   "execution_count": 5,
   "id": "7d6b2da2",
   "metadata": {},
   "outputs": [
    {
     "data": {
      "text/plain": [
       "True"
      ]
     },
     "execution_count": 5,
     "metadata": {},
     "output_type": "execute_result"
    }
   ],
   "source": [
    "\"robusta\" in coffee"
   ]
  },
  {
   "cell_type": "code",
   "execution_count": 6,
   "id": "413954de",
   "metadata": {},
   "outputs": [
    {
     "name": "stdout",
     "output_type": "stream",
     "text": [
      "arabica\n",
      "robusta\n",
      "morgus\n"
     ]
    }
   ],
   "source": [
    "# traverse through a list\n",
    "for cof in coffee:\n",
    "    print(cof)"
   ]
  },
  {
   "cell_type": "code",
   "execution_count": 11,
   "id": "ffc1f617",
   "metadata": {},
   "outputs": [
    {
     "name": "stdout",
     "output_type": "stream",
     "text": [
      "11\n",
      "12\n",
      "13\n",
      "19\n",
      "15\n",
      "16\n"
     ]
    }
   ],
   "source": [
    "numbers = [1,2,3,9,5,6]\n",
    "for num in numbers:\n",
    "    print(num+10)"
   ]
  },
  {
   "cell_type": "code",
   "execution_count": 8,
   "id": "a7f10416",
   "metadata": {},
   "outputs": [
    {
     "name": "stdout",
     "output_type": "stream",
     "text": [
      "10\n",
      "11\n",
      "12\n",
      "13\n",
      "14\n",
      "15\n"
     ]
    }
   ],
   "source": [
    "# when interest in the number of elements in the list not the elements themselves\n",
    "for marks in range(len(numbers)):\n",
    "    marks = marks + 10\n",
    "    print(marks)"
   ]
  },
  {
   "cell_type": "code",
   "execution_count": 12,
   "id": "1552e557",
   "metadata": {},
   "outputs": [],
   "source": [
    "empty = []\n",
    "for em in empty:\n",
    "    print(em)"
   ]
  },
  {
   "cell_type": "code",
   "execution_count": 14,
   "id": "722812fa",
   "metadata": {},
   "outputs": [
    {
     "name": "stdout",
     "output_type": "stream",
     "text": [
      "[1, 2, 3, 4, 5, 4, 3, 1]\n"
     ]
    }
   ],
   "source": [
    "# concatenation of lists\n",
    "num1=[1,2,3,4]\n",
    "num2=[5,4,3,1]\n",
    "num3 = num1 + num2\n",
    "print(num3)"
   ]
  },
  {
   "cell_type": "code",
   "execution_count": 15,
   "id": "de7c5dde",
   "metadata": {},
   "outputs": [
    {
     "name": "stdout",
     "output_type": "stream",
     "text": [
      "[1, 2, 1, 2]\n"
     ]
    }
   ],
   "source": [
    "num4 = [1,2]\n",
    "num4 = num4*2\n",
    "print(num4)"
   ]
  },
  {
   "cell_type": "code",
   "execution_count": null,
   "id": "220da206",
   "metadata": {},
   "outputs": [],
   "source": []
  }
 ],
 "metadata": {
  "kernelspec": {
   "display_name": "Python 3",
   "language": "python",
   "name": "python3"
  },
  "language_info": {
   "codemirror_mode": {
    "name": "ipython",
    "version": 3
   },
   "file_extension": ".py",
   "mimetype": "text/x-python",
   "name": "python",
   "nbconvert_exporter": "python",
   "pygments_lexer": "ipython3",
   "version": "3.8.8"
  }
 },
 "nbformat": 4,
 "nbformat_minor": 5
}
