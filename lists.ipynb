{
 "cells": [
  {
   "cell_type": "markdown",
   "id": "396d9c05",
   "metadata": {},
   "source": [
    "# LISTS [ ]"
   ]
  },
  {
   "cell_type": "markdown",
   "id": "07fb1a07",
   "metadata": {},
   "source": [
    "Lists are mutable ie the contents can be changed <br>\n",
    "Lists allow duplicates <br>\n",
    "Lists are ordered\n",
    "\n",
    "\n"
   ]
  },
  {
   "cell_type": "code",
   "execution_count": 1,
   "id": "152c85fd",
   "metadata": {},
   "outputs": [],
   "source": [
    "coffee = ['arabica', 'robusta', 'morgus']"
   ]
  },
  {
   "cell_type": "code",
   "execution_count": 2,
   "id": "08e26841",
   "metadata": {},
   "outputs": [
    {
     "data": {
      "text/plain": [
       "list"
      ]
     },
     "execution_count": 2,
     "metadata": {},
     "output_type": "execute_result"
    }
   ],
   "source": [
    "# check the data type\n",
    "type(coffee)"
   ]
  },
  {
   "cell_type": "markdown",
   "id": "5d0c6b1d",
   "metadata": {},
   "source": [
    "index- position of an element in a given list \n"
   ]
  },
  {
   "cell_type": "code",
   "execution_count": 3,
   "id": "91390980",
   "metadata": {},
   "outputs": [
    {
     "data": {
      "text/plain": [
       "'arabica'"
      ]
     },
     "execution_count": 3,
     "metadata": {},
     "output_type": "execute_result"
    }
   ],
   "source": [
    "coffee[0]"
   ]
  },
  {
   "cell_type": "code",
   "execution_count": 4,
   "id": "ecb172a8",
   "metadata": {},
   "outputs": [
    {
     "data": {
      "text/plain": [
       "False"
      ]
     },
     "execution_count": 4,
     "metadata": {},
     "output_type": "execute_result"
    }
   ],
   "source": [
    "# check if an element exists in a list\n",
    "\"Morgus\" in coffee"
   ]
  },
  {
   "cell_type": "code",
   "execution_count": 5,
   "id": "dfd17295",
   "metadata": {},
   "outputs": [
    {
     "data": {
      "text/plain": [
       "True"
      ]
     },
     "execution_count": 5,
     "metadata": {},
     "output_type": "execute_result"
    }
   ],
   "source": [
    "\"robusta\" in coffee"
   ]
  },
  {
   "cell_type": "code",
   "execution_count": 6,
   "id": "7c01e29c",
   "metadata": {},
   "outputs": [
    {
     "name": "stdout",
     "output_type": "stream",
     "text": [
      "arabica\n",
      "robusta\n",
      "morgus\n"
     ]
    }
   ],
   "source": [
    "# traverse through a list\n",
    "for cof in coffee:\n",
    "    print(cof)"
   ]
  },
  {
   "cell_type": "code",
   "execution_count": 11,
   "id": "076f217f",
   "metadata": {},
   "outputs": [
    {
     "name": "stdout",
     "output_type": "stream",
     "text": [
      "11\n",
      "12\n",
      "13\n",
      "19\n",
      "15\n",
      "16\n"
     ]
    }
   ],
   "source": [
    "numbers = [1,2,3,9,5,6]\n",
    "for num in numbers:\n",
    "    print(num+10)"
   ]
  },
  {
   "cell_type": "code",
   "execution_count": 8,
   "id": "5699fa7a",
   "metadata": {},
   "outputs": [
    {
     "name": "stdout",
     "output_type": "stream",
     "text": [
      "10\n",
      "11\n",
      "12\n",
      "13\n",
      "14\n",
      "15\n"
     ]
    }
   ],
   "source": [
    "# when interest in the number of elements in the list not the elements themselves\n",
    "for marks in range(len(numbers)):\n",
    "    marks = marks + 10\n",
    "    print(marks)"
   ]
  },
  {
   "cell_type": "code",
   "execution_count": 12,
   "id": "675b95d7",
   "metadata": {},
   "outputs": [],
   "source": [
    "empty = []\n",
    "for em in empty:\n",
    "    print(em)"
   ]
  },
  {
   "cell_type": "code",
   "execution_count": 14,
   "id": "20e459a0",
   "metadata": {},
   "outputs": [
    {
     "name": "stdout",
     "output_type": "stream",
     "text": [
      "[1, 2, 3, 4, 5, 4, 3, 1]\n"
     ]
    }
   ],
   "source": [
    "# concatenation of lists\n",
    "num1=[1,2,3,4]\n",
    "num2=[5,4,3,1]\n",
    "num3 = num1 + num2\n",
    "print(num3)"
   ]
  },
  {
   "cell_type": "code",
   "execution_count": 17,
   "id": "8eb02287",
   "metadata": {},
   "outputs": [
    {
     "name": "stdout",
     "output_type": "stream",
     "text": [
      "[1, 2, 1, 2, 1, 2, 1, 2, 1, 2, 1, 2, 1, 2]\n"
     ]
    }
   ],
   "source": [
    "num4 = [1,2]\n",
    "num5 = num4*7\n",
    "print(num5)"
   ]
  },
  {
   "cell_type": "code",
   "execution_count": 20,
   "id": "26da72a2",
   "metadata": {},
   "outputs": [
    {
     "name": "stdout",
     "output_type": "stream",
     "text": [
      "6\n",
      "10\n"
     ]
    }
   ],
   "source": [
    "num6=[3,5]\n",
    "for num in num6:\n",
    "    num=num*2\n",
    "    print(num)"
   ]
  },
  {
   "cell_type": "code",
   "execution_count": null,
   "id": "a26be642",
   "metadata": {},
   "outputs": [],
   "source": [
    "# slicing\n",
    "cs_performace = [12,56,78,23,90,100,23]\n",
    "first"
   ]
  }
 ],
 "metadata": {
  "kernelspec": {
   "display_name": "Python 3",
   "language": "python",
   "name": "python3"
  },
  "language_info": {
   "codemirror_mode": {
    "name": "ipython",
    "version": 3
   },
   "file_extension": ".py",
   "mimetype": "text/x-python",
   "name": "python",
   "nbconvert_exporter": "python",
   "pygments_lexer": "ipython3",
   "version": "3.8.8"
  }
 },
 "nbformat": 4,
 "nbformat_minor": 5
}
