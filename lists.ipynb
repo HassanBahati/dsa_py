{
 "cells": [
  {
   "cell_type": "markdown",
   "id": "2c536a14",
   "metadata": {},
   "source": [
    "# LISTS [ ]"
   ]
  },
  {
   "cell_type": "markdown",
   "id": "ced47693",
   "metadata": {},
   "source": [
    "Lists are mutable ie the contents can be changed <br>\n",
    "Lists allow duplicates <br>\n",
    "Lists are ordered\n",
    "\n",
    "\n"
   ]
  },
  {
   "cell_type": "code",
   "execution_count": 1,
   "id": "11bc0b3f",
   "metadata": {},
   "outputs": [],
   "source": [
    "coffee = ['arabica', 'robusta', 'morgus']"
   ]
  },
  {
   "cell_type": "code",
   "execution_count": 2,
   "id": "777a2f1f",
   "metadata": {},
   "outputs": [
    {
     "data": {
      "text/plain": [
       "list"
      ]
     },
     "execution_count": 2,
     "metadata": {},
     "output_type": "execute_result"
    }
   ],
   "source": [
    "# check the data type\n",
    "type(coffee)"
   ]
  },
  {
   "cell_type": "markdown",
   "id": "7e95e651",
   "metadata": {},
   "source": [
    "index- position of an element in a given list \n"
   ]
  },
  {
   "cell_type": "code",
   "execution_count": 3,
   "id": "cc089619",
   "metadata": {},
   "outputs": [
    {
     "data": {
      "text/plain": [
       "'arabica'"
      ]
     },
     "execution_count": 3,
     "metadata": {},
     "output_type": "execute_result"
    }
   ],
   "source": [
    "coffee[0]"
   ]
  },
  {
   "cell_type": "code",
   "execution_count": 4,
   "id": "92038d41",
   "metadata": {},
   "outputs": [
    {
     "data": {
      "text/plain": [
       "False"
      ]
     },
     "execution_count": 4,
     "metadata": {},
     "output_type": "execute_result"
    }
   ],
   "source": [
    "# check if an element exists in a list\n",
    "\"Morgus\" in coffee"
   ]
  },
  {
   "cell_type": "code",
   "execution_count": 5,
   "id": "9894fca5",
   "metadata": {},
   "outputs": [
    {
     "data": {
      "text/plain": [
       "True"
      ]
     },
     "execution_count": 5,
     "metadata": {},
     "output_type": "execute_result"
    }
   ],
   "source": [
    "\"robusta\" in coffee"
   ]
  },
  {
   "cell_type": "code",
   "execution_count": 6,
   "id": "a75f2357",
   "metadata": {},
   "outputs": [
    {
     "name": "stdout",
     "output_type": "stream",
     "text": [
      "arabica\n",
      "robusta\n",
      "morgus\n"
     ]
    }
   ],
   "source": [
    "# traverse through a list\n",
    "for cof in coffee:\n",
    "    print(cof)"
   ]
  },
  {
   "cell_type": "code",
   "execution_count": 11,
   "id": "92440767",
   "metadata": {},
   "outputs": [
    {
     "name": "stdout",
     "output_type": "stream",
     "text": [
      "11\n",
      "12\n",
      "13\n",
      "19\n",
      "15\n",
      "16\n"
     ]
    }
   ],
   "source": [
    "numbers = [1,2,3,9,5,6]\n",
    "for num in numbers:\n",
    "    print(num+10)"
   ]
  },
  {
   "cell_type": "code",
   "execution_count": 8,
   "id": "9957d473",
   "metadata": {},
   "outputs": [
    {
     "name": "stdout",
     "output_type": "stream",
     "text": [
      "10\n",
      "11\n",
      "12\n",
      "13\n",
      "14\n",
      "15\n"
     ]
    }
   ],
   "source": [
    "# when interest in the number of elements in the list not the elements themselves\n",
    "for marks in range(len(numbers)):\n",
    "    marks = marks + 10\n",
    "    print(marks)"
   ]
  },
  {
   "cell_type": "code",
   "execution_count": 12,
   "id": "c0383743",
   "metadata": {},
   "outputs": [],
   "source": [
    "empty = []\n",
    "for em in empty:\n",
    "    print(em)"
   ]
  },
  {
   "cell_type": "code",
   "execution_count": 14,
   "id": "5562e1d7",
   "metadata": {},
   "outputs": [
    {
     "name": "stdout",
     "output_type": "stream",
     "text": [
      "[1, 2, 3, 4, 5, 4, 3, 1]\n"
     ]
    }
   ],
   "source": [
    "# concatenation of lists\n",
    "num1=[1,2,3,4]\n",
    "num2=[5,4,3,1]\n",
    "num3 = num1 + num2\n",
    "print(num3)"
   ]
  },
  {
   "cell_type": "code",
   "execution_count": 17,
   "id": "a4b034f7",
   "metadata": {},
   "outputs": [
    {
     "name": "stdout",
     "output_type": "stream",
     "text": [
      "[1, 2, 1, 2, 1, 2, 1, 2, 1, 2, 1, 2, 1, 2]\n"
     ]
    }
   ],
   "source": [
    "num4 = [1,2]\n",
    "num5 = num4*7\n",
    "print(num5)"
   ]
  },
  {
   "cell_type": "code",
   "execution_count": 20,
   "id": "a553333c",
   "metadata": {},
   "outputs": [
    {
     "name": "stdout",
     "output_type": "stream",
     "text": [
      "6\n",
      "10\n"
     ]
    }
   ],
   "source": [
    "num6=[3,5]\n",
    "for num in num6:\n",
    "    num=num*2\n",
    "    print(num)"
   ]
  },
  {
   "cell_type": "code",
   "execution_count": 21,
   "id": "da15ae6e",
   "metadata": {},
   "outputs": [],
   "source": [
    "# slicing\n",
    "cs_performace = [12,56,78,23,90,100,23]"
   ]
  },
  {
   "cell_type": "code",
   "execution_count": 24,
   "id": "9152d4c4",
   "metadata": {},
   "outputs": [
    {
     "name": "stdout",
     "output_type": "stream",
     "text": [
      "[12, 56, 78]\n"
     ]
    }
   ],
   "source": [
    "# print first 3\n",
    "first_3 = cs_performace[0:3]\n",
    "print(first_3)"
   ]
  },
  {
   "cell_type": "code",
   "execution_count": 30,
   "id": "d424b9c8",
   "metadata": {},
   "outputs": [
    {
     "name": "stdout",
     "output_type": "stream",
     "text": [
      "[90, 100, 23]\n"
     ]
    }
   ],
   "source": [
    "print(cs_performace[4:])"
   ]
  },
  {
   "cell_type": "code",
   "execution_count": 31,
   "id": "0785958f",
   "metadata": {},
   "outputs": [
    {
     "name": "stdout",
     "output_type": "stream",
     "text": [
      "[23, 90, 100, 23]\n"
     ]
    }
   ],
   "source": [
    "print(cs_performace[3:8])"
   ]
  },
  {
   "cell_type": "code",
   "execution_count": 32,
   "id": "13d5b8ea",
   "metadata": {},
   "outputs": [
    {
     "name": "stdout",
     "output_type": "stream",
     "text": [
      "[12, 56, 78, 23, 90, 100, 23]\n"
     ]
    }
   ],
   "source": [
    "print(cs_performace[:])"
   ]
  },
  {
   "cell_type": "code",
   "execution_count": 33,
   "id": "23317929",
   "metadata": {},
   "outputs": [
    {
     "name": "stdout",
     "output_type": "stream",
     "text": [
      "[12, 11, 12, 23, 90, 100, 23]\n"
     ]
    }
   ],
   "source": [
    "cs_performace[1:3] = [11,12]\n",
    "print(cs_performace)"
   ]
  },
  {
   "cell_type": "code",
   "execution_count": 36,
   "id": "88592cf6",
   "metadata": {},
   "outputs": [
    {
     "name": "stdout",
     "output_type": "stream",
     "text": [
      "[12, 11, 12, 23, 90, 100, 23, 80, 80, 80]\n"
     ]
    }
   ],
   "source": [
    "# add to the end of the list \n",
    "cs_performace.append(80)\n",
    "print(cs_performace)"
   ]
  },
  {
   "cell_type": "code",
   "execution_count": 40,
   "id": "6d026625",
   "metadata": {},
   "outputs": [
    {
     "name": "stdout",
     "output_type": "stream",
     "text": [
      "[12, 11, 12, 23, 90, 100, 23, 80, 80, 80, 34, 45, 44, 21, 34, 45, 44, 21]\n"
     ]
    }
   ],
   "source": [
    "# add 2 lists into the list\n",
    "cw_perf=[34,45,44,21]\n",
    "cs_performace.extend(cw_perf)\n",
    "print(cs_performace)"
   ]
  },
  {
   "cell_type": "code",
   "execution_count": 43,
   "id": "406f2228",
   "metadata": {},
   "outputs": [
    {
     "name": "stdout",
     "output_type": "stream",
     "text": [
      "[100, 90, 80, 80, 80, 45, 45, 44, 44, 34, 34, 23, 23, 21, 21, 12, 12, 11]\n"
     ]
    }
   ],
   "source": [
    "# sort a list \n",
    "cs_performace.sort(reverse=True)\n",
    "print(cs_performace)"
   ]
  },
  {
   "cell_type": "code",
   "execution_count": 49,
   "id": "45a624b0",
   "metadata": {},
   "outputs": [
    {
     "name": "stdout",
     "output_type": "stream",
     "text": [
      "[100, 90, 80, 80, 44, 34, 34, 23, 23, 21, 21, 12]\n"
     ]
    }
   ],
   "source": [
    "# remove the last element in a list \n",
    "cs_performace.pop(2)\n",
    "print(cs_performace)"
   ]
  },
  {
   "cell_type": "code",
   "execution_count": 52,
   "id": "7b8455c5",
   "metadata": {},
   "outputs": [
    {
     "name": "stdout",
     "output_type": "stream",
     "text": [
      "[80, 80, 34, 34, 23, 23, 21, 21, 12]\n"
     ]
    }
   ],
   "source": [
    "# delete an element by index\n",
    "del cs_performace[0]\n",
    "print(cs_performace)"
   ]
  },
  {
   "cell_type": "code",
   "execution_count": 53,
   "id": "8e6de541",
   "metadata": {},
   "outputs": [
    {
     "data": {
      "text/plain": [
       "80"
      ]
     },
     "execution_count": 53,
     "metadata": {},
     "output_type": "execute_result"
    }
   ],
   "source": [
    "# find maximum value in a list\n",
    "max(cs_performace)"
   ]
  },
  {
   "cell_type": "code",
   "execution_count": 54,
   "id": "0ab52687",
   "metadata": {},
   "outputs": [
    {
     "data": {
      "text/plain": [
       "9"
      ]
     },
     "execution_count": 54,
     "metadata": {},
     "output_type": "execute_result"
    }
   ],
   "source": [
    "# length of a list \n",
    "len(cs_performace)"
   ]
  },
  {
   "cell_type": "code",
   "execution_count": 55,
   "id": "d236a13d",
   "metadata": {},
   "outputs": [
    {
     "data": {
      "text/plain": [
       "12"
      ]
     },
     "execution_count": 55,
     "metadata": {},
     "output_type": "execute_result"
    }
   ],
   "source": [
    "# minimum of a list\n",
    "min(cs_performace)"
   ]
  },
  {
   "cell_type": "code",
   "execution_count": 56,
   "id": "752c02ca",
   "metadata": {},
   "outputs": [
    {
     "data": {
      "text/plain": [
       "328"
      ]
     },
     "execution_count": 56,
     "metadata": {},
     "output_type": "execute_result"
    }
   ],
   "source": [
    "# sum of all elements in the list \n",
    "sum(cs_performace)"
   ]
  },
  {
   "cell_type": "code",
   "execution_count": 58,
   "id": "6b8f0f21",
   "metadata": {},
   "outputs": [
    {
     "name": "stdout",
     "output_type": "stream",
     "text": [
      "[1, 45, 2, 3, 4, 5]\n"
     ]
    }
   ],
   "source": [
    "list1=[1,2,3,4,5]\n",
    "list1.insert(1,45)\n",
    "print(list1)"
   ]
  },
  {
   "cell_type": "code",
   "execution_count": null,
   "id": "8d5e027a",
   "metadata": {},
   "outputs": [],
   "source": []
  }
 ],
 "metadata": {
  "kernelspec": {
   "display_name": "Python 3",
   "language": "python",
   "name": "python3"
  },
  "language_info": {
   "codemirror_mode": {
    "name": "ipython",
    "version": 3
   },
   "file_extension": ".py",
   "mimetype": "text/x-python",
   "name": "python",
   "nbconvert_exporter": "python",
   "pygments_lexer": "ipython3",
   "version": "3.8.8"
  }
 },
 "nbformat": 4,
 "nbformat_minor": 5
}
