{
 "cells": [
  {
   "cell_type": "markdown",
   "id": "4a8ce71f",
   "metadata": {},
   "source": [
    "# LISTS [ ]"
   ]
  },
  {
   "cell_type": "markdown",
   "id": "398ddac5",
   "metadata": {},
   "source": [
    "Lists are mutable ie the contents can be changed <br>\n",
    "Lists allow duplicates <br>\n",
    "Lists are ordered\n",
    "\n",
    "\n"
   ]
  },
  {
   "cell_type": "code",
   "execution_count": 1,
   "id": "98f71e6a",
   "metadata": {},
   "outputs": [],
   "source": [
    "coffee = ['arabica', 'robusta', 'morgus']"
   ]
  },
  {
   "cell_type": "code",
   "execution_count": 2,
   "id": "516b9c26",
   "metadata": {},
   "outputs": [
    {
     "data": {
      "text/plain": [
       "list"
      ]
     },
     "execution_count": 2,
     "metadata": {},
     "output_type": "execute_result"
    }
   ],
   "source": [
    "# check the data type\n",
    "type(coffee)"
   ]
  },
  {
   "cell_type": "markdown",
   "id": "91d1ea4b",
   "metadata": {},
   "source": [
    "index- position of an element in a given list \n"
   ]
  },
  {
   "cell_type": "code",
   "execution_count": 3,
   "id": "c059fd1f",
   "metadata": {},
   "outputs": [
    {
     "data": {
      "text/plain": [
       "'arabica'"
      ]
     },
     "execution_count": 3,
     "metadata": {},
     "output_type": "execute_result"
    }
   ],
   "source": [
    "coffee[0]"
   ]
  },
  {
   "cell_type": "code",
   "execution_count": 4,
   "id": "a214f707",
   "metadata": {},
   "outputs": [
    {
     "data": {
      "text/plain": [
       "False"
      ]
     },
     "execution_count": 4,
     "metadata": {},
     "output_type": "execute_result"
    }
   ],
   "source": [
    "# check if an element exists in a list\n",
    "\"Morgus\" in coffee"
   ]
  },
  {
   "cell_type": "code",
   "execution_count": 5,
   "id": "e1f7d191",
   "metadata": {},
   "outputs": [
    {
     "data": {
      "text/plain": [
       "True"
      ]
     },
     "execution_count": 5,
     "metadata": {},
     "output_type": "execute_result"
    }
   ],
   "source": [
    "\"robusta\" in coffee"
   ]
  },
  {
   "cell_type": "code",
   "execution_count": 6,
   "id": "9a1bf5f3",
   "metadata": {},
   "outputs": [
    {
     "name": "stdout",
     "output_type": "stream",
     "text": [
      "arabica\n",
      "robusta\n",
      "morgus\n"
     ]
    }
   ],
   "source": [
    "# traverse through a list\n",
    "for cof in coffee:\n",
    "    print(cof)"
   ]
  },
  {
   "cell_type": "code",
   "execution_count": 11,
   "id": "505aaabc",
   "metadata": {},
   "outputs": [
    {
     "name": "stdout",
     "output_type": "stream",
     "text": [
      "11\n",
      "12\n",
      "13\n",
      "19\n",
      "15\n",
      "16\n"
     ]
    }
   ],
   "source": [
    "numbers = [1,2,3,9,5,6]\n",
    "for num in numbers:\n",
    "    print(num+10)"
   ]
  },
  {
   "cell_type": "code",
   "execution_count": 8,
   "id": "e6906400",
   "metadata": {},
   "outputs": [
    {
     "name": "stdout",
     "output_type": "stream",
     "text": [
      "10\n",
      "11\n",
      "12\n",
      "13\n",
      "14\n",
      "15\n"
     ]
    }
   ],
   "source": [
    "# when interest in the number of elements in the list not the elements themselves\n",
    "for marks in range(len(numbers)):\n",
    "    marks = marks + 10\n",
    "    print(marks)"
   ]
  },
  {
   "cell_type": "code",
   "execution_count": null,
   "id": "fe4b76eb",
   "metadata": {},
   "outputs": [],
   "source": []
  }
 ],
 "metadata": {
  "kernelspec": {
   "display_name": "Python 3",
   "language": "python",
   "name": "python3"
  },
  "language_info": {
   "codemirror_mode": {
    "name": "ipython",
    "version": 3
   },
   "file_extension": ".py",
   "mimetype": "text/x-python",
   "name": "python",
   "nbconvert_exporter": "python",
   "pygments_lexer": "ipython3",
   "version": "3.8.8"
  }
 },
 "nbformat": 4,
 "nbformat_minor": 5
}
