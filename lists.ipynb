{
 "cells": [
  {
   "cell_type": "markdown",
   "id": "cc7f6cf0",
   "metadata": {},
   "source": [
    "# LISTS [ ]"
   ]
  },
  {
   "cell_type": "markdown",
   "id": "4b65094b",
   "metadata": {},
   "source": [
    "Lists are mutable ie the contents can be changed <br>\n",
    "Lists allow duplicates <br>\n",
    "Lists are ordered\n",
    "\n",
    "\n"
   ]
  },
  {
   "cell_type": "code",
   "execution_count": 1,
   "id": "f1cfbca5",
   "metadata": {},
   "outputs": [],
   "source": [
    "coffee = ['arabica', 'robusta', 'morgus']"
   ]
  },
  {
   "cell_type": "code",
   "execution_count": 2,
   "id": "d4278f8b",
   "metadata": {},
   "outputs": [
    {
     "data": {
      "text/plain": [
       "list"
      ]
     },
     "execution_count": 2,
     "metadata": {},
     "output_type": "execute_result"
    }
   ],
   "source": [
    "# check the data type\n",
    "type(coffee)"
   ]
  },
  {
   "cell_type": "markdown",
   "id": "1f6177ff",
   "metadata": {},
   "source": [
    "index- position of an element in a given list \n"
   ]
  },
  {
   "cell_type": "code",
   "execution_count": 3,
   "id": "e69b8fea",
   "metadata": {},
   "outputs": [
    {
     "data": {
      "text/plain": [
       "'arabica'"
      ]
     },
     "execution_count": 3,
     "metadata": {},
     "output_type": "execute_result"
    }
   ],
   "source": [
    "coffee[0]"
   ]
  },
  {
   "cell_type": "code",
   "execution_count": 4,
   "id": "b6d4b429",
   "metadata": {},
   "outputs": [
    {
     "data": {
      "text/plain": [
       "False"
      ]
     },
     "execution_count": 4,
     "metadata": {},
     "output_type": "execute_result"
    }
   ],
   "source": [
    "# check if an element exists in a list\n",
    "\"Morgus\" in coffee"
   ]
  },
  {
   "cell_type": "code",
   "execution_count": 5,
   "id": "68e083f8",
   "metadata": {},
   "outputs": [
    {
     "data": {
      "text/plain": [
       "True"
      ]
     },
     "execution_count": 5,
     "metadata": {},
     "output_type": "execute_result"
    }
   ],
   "source": [
    "\"robusta\" in coffee"
   ]
  },
  {
   "cell_type": "code",
   "execution_count": 6,
   "id": "96357475",
   "metadata": {},
   "outputs": [
    {
     "name": "stdout",
     "output_type": "stream",
     "text": [
      "arabica\n",
      "robusta\n",
      "morgus\n"
     ]
    }
   ],
   "source": [
    "# traverse through a list\n",
    "for cof in coffee:\n",
    "    print(cof)"
   ]
  },
  {
   "cell_type": "code",
   "execution_count": 11,
   "id": "8e74694d",
   "metadata": {},
   "outputs": [
    {
     "name": "stdout",
     "output_type": "stream",
     "text": [
      "11\n",
      "12\n",
      "13\n",
      "19\n",
      "15\n",
      "16\n"
     ]
    }
   ],
   "source": [
    "numbers = [1,2,3,9,5,6]\n",
    "for num in numbers:\n",
    "    print(num+10)"
   ]
  },
  {
   "cell_type": "code",
   "execution_count": 8,
   "id": "82f288fa",
   "metadata": {},
   "outputs": [
    {
     "name": "stdout",
     "output_type": "stream",
     "text": [
      "10\n",
      "11\n",
      "12\n",
      "13\n",
      "14\n",
      "15\n"
     ]
    }
   ],
   "source": [
    "# when interest in the number of elements in the list not the elements themselves\n",
    "for marks in range(len(numbers)):\n",
    "    marks = marks + 10\n",
    "    print(marks)"
   ]
  },
  {
   "cell_type": "code",
   "execution_count": 12,
   "id": "04cada9b",
   "metadata": {},
   "outputs": [],
   "source": [
    "empty = []\n",
    "for em in empty:\n",
    "    print(em)"
   ]
  },
  {
   "cell_type": "code",
   "execution_count": 14,
   "id": "536bde9c",
   "metadata": {},
   "outputs": [
    {
     "name": "stdout",
     "output_type": "stream",
     "text": [
      "[1, 2, 3, 4, 5, 4, 3, 1]\n"
     ]
    }
   ],
   "source": [
    "# concatenation of lists\n",
    "num1=[1,2,3,4]\n",
    "num2=[5,4,3,1]\n",
    "num3 = num1 + num2\n",
    "print(num3)"
   ]
  },
  {
   "cell_type": "code",
   "execution_count": 17,
   "id": "a8f5afee",
   "metadata": {},
   "outputs": [
    {
     "name": "stdout",
     "output_type": "stream",
     "text": [
      "[1, 2, 1, 2, 1, 2, 1, 2, 1, 2, 1, 2, 1, 2]\n"
     ]
    }
   ],
   "source": [
    "num4 = [1,2]\n",
    "num5 = num4*7\n",
    "print(num5)"
   ]
  },
  {
   "cell_type": "code",
   "execution_count": 19,
   "id": "9d8e0beb",
   "metadata": {},
   "outputs": [
    {
     "name": "stdout",
     "output_type": "stream",
     "text": [
      "3\n",
      "5\n"
     ]
    }
   ],
   "source": [
    "num6=[3,5]\n",
    "for num in num6:\n",
    "    num*2"
   ]
  },
  {
   "cell_type": "code",
   "execution_count": null,
   "id": "a10fd95b",
   "metadata": {},
   "outputs": [],
   "source": []
  }
 ],
 "metadata": {
  "kernelspec": {
   "display_name": "Python 3",
   "language": "python",
   "name": "python3"
  },
  "language_info": {
   "codemirror_mode": {
    "name": "ipython",
    "version": 3
   },
   "file_extension": ".py",
   "mimetype": "text/x-python",
   "name": "python",
   "nbconvert_exporter": "python",
   "pygments_lexer": "ipython3",
   "version": "3.8.8"
  }
 },
 "nbformat": 4,
 "nbformat_minor": 5
}
