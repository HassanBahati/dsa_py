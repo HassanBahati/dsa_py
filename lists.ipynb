{
 "cells": [
  {
   "cell_type": "markdown",
   "id": "3e71cc9a",
   "metadata": {},
   "source": [
    "# LISTS [ ]"
   ]
  },
  {
   "cell_type": "markdown",
   "id": "454643b8",
   "metadata": {},
   "source": [
    "Lists are mutable ie the contents can be changed\n",
    "\n"
   ]
  },
  {
   "cell_type": "code",
   "execution_count": 1,
   "id": "e9836239",
   "metadata": {},
   "outputs": [],
   "source": [
    "coffee = ['arabica', 'robusta', 'morgus']"
   ]
  },
  {
   "cell_type": "code",
   "execution_count": 2,
   "id": "d66f01f8",
   "metadata": {},
   "outputs": [
    {
     "data": {
      "text/plain": [
       "list"
      ]
     },
     "execution_count": 2,
     "metadata": {},
     "output_type": "execute_result"
    }
   ],
   "source": [
    "# check the data type\n",
    "type(coffee)"
   ]
  },
  {
   "cell_type": "markdown",
   "id": "2c88dde4",
   "metadata": {},
   "source": [
    "index- position of an element in a given list \n"
   ]
  },
  {
   "cell_type": "code",
   "execution_count": 3,
   "id": "f5d19a8b",
   "metadata": {},
   "outputs": [
    {
     "data": {
      "text/plain": [
       "'arabica'"
      ]
     },
     "execution_count": 3,
     "metadata": {},
     "output_type": "execute_result"
    }
   ],
   "source": [
    "coffee[0]"
   ]
  },
  {
   "cell_type": "code",
   "execution_count": null,
   "id": "b82b2906",
   "metadata": {},
   "outputs": [],
   "source": []
  }
 ],
 "metadata": {
  "kernelspec": {
   "display_name": "Python 3",
   "language": "python",
   "name": "python3"
  },
  "language_info": {
   "codemirror_mode": {
    "name": "ipython",
    "version": 3
   },
   "file_extension": ".py",
   "mimetype": "text/x-python",
   "name": "python",
   "nbconvert_exporter": "python",
   "pygments_lexer": "ipython3",
   "version": "3.8.8"
  }
 },
 "nbformat": 4,
 "nbformat_minor": 5
}
