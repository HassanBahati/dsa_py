{
 "cells": [
  {
   "cell_type": "markdown",
   "id": "381f30ab",
   "metadata": {},
   "source": [
    "# LISTS [ ]"
   ]
  },
  {
   "cell_type": "markdown",
   "id": "9579c46c",
   "metadata": {},
   "source": [
    "Lists are mutable ie the contents can be changed <br>\n",
    "Lists allow duplicates <br>\n",
    "Lists are ordered\n",
    "\n",
    "\n"
   ]
  },
  {
   "cell_type": "code",
   "execution_count": 1,
   "id": "db2ab88e",
   "metadata": {},
   "outputs": [],
   "source": [
    "coffee = ['arabica', 'robusta', 'morgus']"
   ]
  },
  {
   "cell_type": "code",
   "execution_count": 2,
   "id": "c147d9c0",
   "metadata": {},
   "outputs": [
    {
     "data": {
      "text/plain": [
       "list"
      ]
     },
     "execution_count": 2,
     "metadata": {},
     "output_type": "execute_result"
    }
   ],
   "source": [
    "# check the data type\n",
    "type(coffee)"
   ]
  },
  {
   "cell_type": "markdown",
   "id": "d0bf6dc5",
   "metadata": {},
   "source": [
    "index- position of an element in a given list \n"
   ]
  },
  {
   "cell_type": "code",
   "execution_count": 3,
   "id": "aba787d2",
   "metadata": {},
   "outputs": [
    {
     "data": {
      "text/plain": [
       "'arabica'"
      ]
     },
     "execution_count": 3,
     "metadata": {},
     "output_type": "execute_result"
    }
   ],
   "source": [
    "coffee[0]"
   ]
  },
  {
   "cell_type": "code",
   "execution_count": 4,
   "id": "96b3d86a",
   "metadata": {},
   "outputs": [
    {
     "data": {
      "text/plain": [
       "False"
      ]
     },
     "execution_count": 4,
     "metadata": {},
     "output_type": "execute_result"
    }
   ],
   "source": [
    "# check if an element exists in a list\n",
    "\"Morgus\" in coffee"
   ]
  },
  {
   "cell_type": "code",
   "execution_count": 5,
   "id": "ddc81a9f",
   "metadata": {},
   "outputs": [
    {
     "data": {
      "text/plain": [
       "True"
      ]
     },
     "execution_count": 5,
     "metadata": {},
     "output_type": "execute_result"
    }
   ],
   "source": [
    "\"robusta\" in coffee"
   ]
  },
  {
   "cell_type": "code",
   "execution_count": 6,
   "id": "49858306",
   "metadata": {},
   "outputs": [
    {
     "name": "stdout",
     "output_type": "stream",
     "text": [
      "arabica\n",
      "robusta\n",
      "morgus\n"
     ]
    }
   ],
   "source": [
    "# traverse through a list\n",
    "for cof in coffee:\n",
    "    print(cof)"
   ]
  },
  {
   "cell_type": "code",
   "execution_count": 11,
   "id": "23b3a53c",
   "metadata": {},
   "outputs": [
    {
     "name": "stdout",
     "output_type": "stream",
     "text": [
      "11\n",
      "12\n",
      "13\n",
      "19\n",
      "15\n",
      "16\n"
     ]
    }
   ],
   "source": [
    "numbers = [1,2,3,9,5,6]\n",
    "for num in numbers:\n",
    "    print(num+10)"
   ]
  },
  {
   "cell_type": "code",
   "execution_count": 8,
   "id": "a87627e8",
   "metadata": {},
   "outputs": [
    {
     "name": "stdout",
     "output_type": "stream",
     "text": [
      "10\n",
      "11\n",
      "12\n",
      "13\n",
      "14\n",
      "15\n"
     ]
    }
   ],
   "source": [
    "# when interest in the number of elements in the list not the elements themselves\n",
    "for marks in range(len(numbers)):\n",
    "    marks = marks + 10\n",
    "    print(marks)"
   ]
  },
  {
   "cell_type": "code",
   "execution_count": 12,
   "id": "4b7ffae4",
   "metadata": {},
   "outputs": [],
   "source": [
    "empty = []\n",
    "for em in empty:\n",
    "    print(em)"
   ]
  },
  {
   "cell_type": "code",
   "execution_count": 14,
   "id": "78c63338",
   "metadata": {},
   "outputs": [
    {
     "name": "stdout",
     "output_type": "stream",
     "text": [
      "[1, 2, 3, 4, 5, 4, 3, 1]\n"
     ]
    }
   ],
   "source": [
    "# concatenation of lists\n",
    "num1=[1,2,3,4]\n",
    "num2=[5,4,3,1]\n",
    "num3 = num1 + num2\n",
    "print(num3)"
   ]
  },
  {
   "cell_type": "code",
   "execution_count": 17,
   "id": "c25314fb",
   "metadata": {},
   "outputs": [
    {
     "name": "stdout",
     "output_type": "stream",
     "text": [
      "[1, 2, 1, 2, 1, 2, 1, 2, 1, 2, 1, 2, 1, 2]\n"
     ]
    }
   ],
   "source": [
    "num4 = [1,2]\n",
    "num5 = num4*7\n",
    "print(num5)"
   ]
  },
  {
   "cell_type": "code",
   "execution_count": 20,
   "id": "420714c0",
   "metadata": {},
   "outputs": [
    {
     "name": "stdout",
     "output_type": "stream",
     "text": [
      "6\n",
      "10\n"
     ]
    }
   ],
   "source": [
    "num6=[3,5]\n",
    "for num in num6:\n",
    "    num=num*2\n",
    "    print(num)"
   ]
  },
  {
   "cell_type": "code",
   "execution_count": 21,
   "id": "fe54ecd1",
   "metadata": {},
   "outputs": [],
   "source": [
    "# slicing\n",
    "cs_performace = [12,56,78,23,90,100,23]"
   ]
  },
  {
   "cell_type": "code",
   "execution_count": 24,
   "id": "61efac90",
   "metadata": {},
   "outputs": [
    {
     "name": "stdout",
     "output_type": "stream",
     "text": [
      "[12, 56, 78]\n"
     ]
    }
   ],
   "source": [
    "# print first 3\n",
    "first_3 = cs_performace[0:3]\n",
    "print(first_3)"
   ]
  },
  {
   "cell_type": "code",
   "execution_count": 30,
   "id": "fcf4d57e",
   "metadata": {},
   "outputs": [
    {
     "name": "stdout",
     "output_type": "stream",
     "text": [
      "[90, 100, 23]\n"
     ]
    }
   ],
   "source": [
    "print(cs_performace[4:])"
   ]
  },
  {
   "cell_type": "code",
   "execution_count": 31,
   "id": "b3898c2e",
   "metadata": {},
   "outputs": [
    {
     "name": "stdout",
     "output_type": "stream",
     "text": [
      "[23, 90, 100, 23]\n"
     ]
    }
   ],
   "source": [
    "print(cs_performace[3:8])"
   ]
  },
  {
   "cell_type": "code",
   "execution_count": 32,
   "id": "db817564",
   "metadata": {},
   "outputs": [
    {
     "name": "stdout",
     "output_type": "stream",
     "text": [
      "[12, 56, 78, 23, 90, 100, 23]\n"
     ]
    }
   ],
   "source": [
    "print(cs_performace[:])"
   ]
  },
  {
   "cell_type": "code",
   "execution_count": 33,
   "id": "860fd915",
   "metadata": {},
   "outputs": [
    {
     "name": "stdout",
     "output_type": "stream",
     "text": [
      "[12, 11, 12, 23, 90, 100, 23]\n"
     ]
    }
   ],
   "source": [
    "cs_performace[1:3] = [11,12]\n",
    "print(cs_performace)"
   ]
  },
  {
   "cell_type": "code",
   "execution_count": 36,
   "id": "8a1adfab",
   "metadata": {},
   "outputs": [
    {
     "name": "stdout",
     "output_type": "stream",
     "text": [
      "[12, 11, 12, 23, 90, 100, 23, 80, 80, 80]\n"
     ]
    }
   ],
   "source": [
    "# add to the end of the list \n",
    "cs_performace.append(80)\n",
    "print(cs_performace)"
   ]
  },
  {
   "cell_type": "code",
   "execution_count": 40,
   "id": "a9b2f507",
   "metadata": {},
   "outputs": [
    {
     "name": "stdout",
     "output_type": "stream",
     "text": [
      "[12, 11, 12, 23, 90, 100, 23, 80, 80, 80, 34, 45, 44, 21, 34, 45, 44, 21]\n"
     ]
    }
   ],
   "source": [
    "# add 2 lists into the list\n",
    "cw_perf=[34,45,44,21]\n",
    "cs_performace.extend(cw_perf)\n",
    "print(cs_performace)"
   ]
  },
  {
   "cell_type": "code",
   "execution_count": 43,
   "id": "a54dfa06",
   "metadata": {},
   "outputs": [
    {
     "name": "stdout",
     "output_type": "stream",
     "text": [
      "[100, 90, 80, 80, 80, 45, 45, 44, 44, 34, 34, 23, 23, 21, 21, 12, 12, 11]\n"
     ]
    }
   ],
   "source": [
    "# sort a list \n",
    "cs_performace.sort(reverse=True)\n",
    "print(cs_performace)"
   ]
  },
  {
   "cell_type": "code",
   "execution_count": 49,
   "id": "5d167e58",
   "metadata": {},
   "outputs": [
    {
     "name": "stdout",
     "output_type": "stream",
     "text": [
      "[100, 90, 80, 80, 44, 34, 34, 23, 23, 21, 21, 12]\n"
     ]
    }
   ],
   "source": [
    "# remove the last element in a list \n",
    "cs_performace.pop(2)\n",
    "print(cs_performace)"
   ]
  },
  {
   "cell_type": "code",
   "execution_count": 52,
   "id": "2ac6c617",
   "metadata": {},
   "outputs": [
    {
     "name": "stdout",
     "output_type": "stream",
     "text": [
      "[80, 80, 34, 34, 23, 23, 21, 21, 12]\n"
     ]
    }
   ],
   "source": [
    "# delete an element by index\n",
    "del cs_performace[0]\n",
    "print(cs_performace)"
   ]
  },
  {
   "cell_type": "code",
   "execution_count": null,
   "id": "953ee18f",
   "metadata": {},
   "outputs": [],
   "source": []
  }
 ],
 "metadata": {
  "kernelspec": {
   "display_name": "Python 3",
   "language": "python",
   "name": "python3"
  },
  "language_info": {
   "codemirror_mode": {
    "name": "ipython",
    "version": 3
   },
   "file_extension": ".py",
   "mimetype": "text/x-python",
   "name": "python",
   "nbconvert_exporter": "python",
   "pygments_lexer": "ipython3",
   "version": "3.8.8"
  }
 },
 "nbformat": 4,
 "nbformat_minor": 5
}
