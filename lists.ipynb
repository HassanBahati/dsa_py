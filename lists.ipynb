{
 "cells": [
  {
   "cell_type": "markdown",
   "id": "4d52f229",
   "metadata": {},
   "source": [
    "# LISTS [ ]"
   ]
  },
  {
   "cell_type": "markdown",
   "id": "b08707be",
   "metadata": {},
   "source": [
    "Lists are immutable ie cannot be changed/ read-only\n"
   ]
  },
  {
   "cell_type": "code",
   "execution_count": 1,
   "id": "27d17681",
   "metadata": {},
   "outputs": [],
   "source": [
    "coffee = ['arabica', 'robusta', 'morgus']"
   ]
  },
  {
   "cell_type": "code",
   "execution_count": null,
   "id": "20a3c8f7",
   "metadata": {},
   "outputs": [],
   "source": [
    "type "
   ]
  }
 ],
 "metadata": {
  "kernelspec": {
   "display_name": "Python 3",
   "language": "python",
   "name": "python3"
  },
  "language_info": {
   "codemirror_mode": {
    "name": "ipython",
    "version": 3
   },
   "file_extension": ".py",
   "mimetype": "text/x-python",
   "name": "python",
   "nbconvert_exporter": "python",
   "pygments_lexer": "ipython3",
   "version": "3.8.8"
  }
 },
 "nbformat": 4,
 "nbformat_minor": 5
}
