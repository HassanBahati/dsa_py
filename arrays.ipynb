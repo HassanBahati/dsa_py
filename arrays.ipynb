{
 "cells": [
  {
   "cell_type": "code",
   "execution_count": 3,
   "id": "7ac06393",
   "metadata": {},
   "outputs": [],
   "source": [
    "from array import *"
   ]
  },
  {
   "cell_type": "code",
   "execution_count": 4,
   "id": "012f6abb",
   "metadata": {},
   "outputs": [
    {
     "name": "stdout",
     "output_type": "stream",
     "text": [
      "array('f', [12.399999618530273, 5.199999809265137])\n"
     ]
    }
   ],
   "source": [
    "marks = array('f', [12.4,5.2])\n",
    "print(marks)"
   ]
  },
  {
   "cell_type": "code",
   "execution_count": 5,
   "id": "0d65b879",
   "metadata": {},
   "outputs": [
    {
     "name": "stdout",
     "output_type": "stream",
     "text": [
      "12.399999618530273\n"
     ]
    }
   ],
   "source": [
    "# accessing elements in an array\n",
    "print(marks[0])"
   ]
  },
  {
   "cell_type": "code",
   "execution_count": 6,
   "id": "fa34048d",
   "metadata": {},
   "outputs": [
    {
     "name": "stdout",
     "output_type": "stream",
     "text": [
      "12.399999618530273\n",
      "5.199999809265137\n"
     ]
    }
   ],
   "source": [
    "for i in marks:\n",
    "    print(i)"
   ]
  },
  {
   "cell_type": "code",
   "execution_count": 5,
   "id": "db02ece7",
   "metadata": {},
   "outputs": [
    {
     "name": "stdout",
     "output_type": "stream",
     "text": [
      "12.399999618530273\n",
      "5.199999809265137\n"
     ]
    }
   ],
   "source": [
    "i=0\n",
    "while i < len(marks):\n",
    "    print(marks[i])\n",
    "    i+=1"
   ]
  },
  {
   "cell_type": "code",
   "execution_count": 7,
   "id": "15ea70ce",
   "metadata": {},
   "outputs": [
    {
     "name": "stdout",
     "output_type": "stream",
     "text": [
      "array('f', [12.399999618530273, 5.199999809265137])\n"
     ]
    }
   ],
   "source": [
    "# list comprehension-getting elements from one list and putting then into another\n",
    "newArray = array(marks.typecode,[a for a in marks])\n",
    "print(newArray)"
   ]
  },
  {
   "cell_type": "code",
   "execution_count": 9,
   "id": "bdb8e029",
   "metadata": {},
   "outputs": [
    {
     "name": "stdout",
     "output_type": "stream",
     "text": [
      "array('i', [84916225, 9072144, 67519089, 37015056, 4100625])\n"
     ]
    }
   ],
   "source": [
    "newArray2=array('i',[9215,3012,8217,6084,2025])\n",
    "newArray3=array(newArray2.typecode, [a*a for a in newArray2])\n",
    "print(newArray3)"
   ]
  },
  {
   "cell_type": "code",
   "execution_count": 12,
   "id": "fa577df2",
   "metadata": {},
   "outputs": [
    {
     "name": "stdout",
     "output_type": "stream",
     "text": [
      "array('i', [18430, 6024, 16434, 12168, 4050])\n"
     ]
    }
   ],
   "source": [
    "newArray4 = array(newArray2.typecode, [])\n",
    "for i in newArray2:\n",
    "    newArray4.append(i*2)\n",
    "print(newArray4)"
   ]
  },
  {
   "cell_type": "code",
   "execution_count": null,
   "id": "f5e8dbac",
   "metadata": {},
   "outputs": [],
   "source": [
    "print(newArray4)"
   ]
  }
 ],
 "metadata": {
  "kernelspec": {
   "display_name": "Python 3",
   "language": "python",
   "name": "python3"
  },
  "language_info": {
   "codemirror_mode": {
    "name": "ipython",
    "version": 3
   },
   "file_extension": ".py",
   "mimetype": "text/x-python",
   "name": "python",
   "nbconvert_exporter": "python",
   "pygments_lexer": "ipython3",
   "version": "3.8.8"
  }
 },
 "nbformat": 4,
 "nbformat_minor": 5
}
