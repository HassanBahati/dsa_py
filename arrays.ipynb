{
 "cells": [
  {
   "cell_type": "code",
   "execution_count": 3,
   "id": "916617fe",
   "metadata": {},
   "outputs": [],
   "source": [
    "from array import *"
   ]
  },
  {
   "cell_type": "code",
   "execution_count": 4,
   "id": "052e4aa8",
   "metadata": {},
   "outputs": [
    {
     "name": "stdout",
     "output_type": "stream",
     "text": [
      "array('f', [12.399999618530273, 5.199999809265137])\n"
     ]
    }
   ],
   "source": [
    "marks = array('f', [12.4,5.2])\n",
    "print(marks)"
   ]
  },
  {
   "cell_type": "code",
   "execution_count": 5,
   "id": "8b42abdc",
   "metadata": {},
   "outputs": [
    {
     "name": "stdout",
     "output_type": "stream",
     "text": [
      "12.399999618530273\n"
     ]
    }
   ],
   "source": [
    "# accessing elements in an array\n",
    "print(marks[0])"
   ]
  },
  {
   "cell_type": "code",
   "execution_count": 6,
   "id": "30fd573b",
   "metadata": {},
   "outputs": [
    {
     "name": "stdout",
     "output_type": "stream",
     "text": [
      "12.399999618530273\n",
      "5.199999809265137\n"
     ]
    }
   ],
   "source": [
    "for i in marks:\n",
    "    print(i)"
   ]
  },
  {
   "cell_type": "code",
   "execution_count": 5,
   "id": "c39027ca",
   "metadata": {},
   "outputs": [
    {
     "name": "stdout",
     "output_type": "stream",
     "text": [
      "12.399999618530273\n",
      "5.199999809265137\n"
     ]
    }
   ],
   "source": [
    "i=0\n",
    "while i < len(marks):\n",
    "    print(marks[i])\n",
    "    i+=1"
   ]
  },
  {
   "cell_type": "code",
   "execution_count": 7,
   "id": "21c1ea29",
   "metadata": {},
   "outputs": [
    {
     "name": "stdout",
     "output_type": "stream",
     "text": [
      "array('f', [12.399999618530273, 5.199999809265137])\n"
     ]
    }
   ],
   "source": [
    "# list comprehension-getting elements from one list and putting then into another\n",
    "newArray = array(marks.typecode,[a for a in marks])\n",
    "print(newArray)"
   ]
  },
  {
   "cell_type": "code",
   "execution_count": null,
   "id": "51adebb5",
   "metadata": {},
   "outputs": [],
   "source": []
  }
 ],
 "metadata": {
  "kernelspec": {
   "display_name": "Python 3",
   "language": "python",
   "name": "python3"
  },
  "language_info": {
   "codemirror_mode": {
    "name": "ipython",
    "version": 3
   },
   "file_extension": ".py",
   "mimetype": "text/x-python",
   "name": "python",
   "nbconvert_exporter": "python",
   "pygments_lexer": "ipython3",
   "version": "3.8.8"
  }
 },
 "nbformat": 4,
 "nbformat_minor": 5
}
