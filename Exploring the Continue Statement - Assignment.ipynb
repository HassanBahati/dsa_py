{
 "cells": [
  {
   "cell_type": "code",
   "execution_count": 3,
   "id": "9d400305",
   "metadata": {},
   "outputs": [
    {
     "name": "stdout",
     "output_type": "stream",
     "text": [
      "enter any word ragaga\n",
      "RAGAGA\n",
      "RGG\n"
     ]
    },
    {
     "data": {
      "text/plain": [
       "'rgg'"
      ]
     },
     "execution_count": 3,
     "metadata": {},
     "output_type": "execute_result"
    }
   ],
   "source": [
    "def vowel(user_word):\n",
    "    v=('a','e','i','o','u')\n",
    "    for i in v:\n",
    "        if i in v:\n",
    "            user_word=user_word.replace(i,'')\n",
    "    print(user_word.upper())\n",
    "    return user_word\n",
    "\n",
    "user_word=input('enter any word ')\n",
    "print(user_word.upper())\n",
    "vowel(user_word)"
   ]
  },
  {
   "cell_type": "code",
   "execution_count": null,
   "id": "e6372abd",
   "metadata": {},
   "outputs": [],
   "source": []
  }
 ],
 "metadata": {
  "kernelspec": {
   "display_name": "Python 3",
   "language": "python",
   "name": "python3"
  },
  "language_info": {
   "codemirror_mode": {
    "name": "ipython",
    "version": 3
   },
   "file_extension": ".py",
   "mimetype": "text/x-python",
   "name": "python",
   "nbconvert_exporter": "python",
   "pygments_lexer": "ipython3",
   "version": "3.8.8"
  }
 },
 "nbformat": 4,
 "nbformat_minor": 5
}
