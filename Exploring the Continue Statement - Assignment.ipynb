{
 "cells": [
  {
   "cell_type": "code",
   "execution_count": 3,
   "id": "e0fc096a",
   "metadata": {},
   "outputs": [
    {
     "name": "stdout",
     "output_type": "stream",
     "text": [
      "enter any word ragaga\n",
      "RAGAGA\n",
      "RGG\n"
     ]
    },
    {
     "data": {
      "text/plain": [
       "'rgg'"
      ]
     },
     "execution_count": 3,
     "metadata": {},
     "output_type": "execute_result"
    }
   ],
   "source": [
    "# Objectives\n",
    "# Familiarize the student with:\n",
    "\n",
    "# using the continue statement in loops;\n",
    "# reflecting real-life situations in computer code.\n",
    "# Scenario\n",
    "# The continue statement is used to skip the current block and move ahead to the next iteration, without executing the statements inside the loop.\n",
    "\n",
    "# It can be used with both the while and for loops.\n",
    "\n",
    "# Your task here is very special: you must design a vowel eater! Write a program that uses:\n",
    "\n",
    "# a for loop;\n",
    "# the concept of conditional execution (if-elif-else)\n",
    "# the continue statement.\n",
    "# Your program must:\n",
    "\n",
    "# ask the user to enter a word;\n",
    "# use user_word = user_word.upper() to convert the word entered by the user to upper case; Exlpore the python string methods and the upper() method.\n",
    "# use conditional execution and the continue statement to \"eat\" the following vowels A, E, I, O, U from the inputted word;\n",
    "# print the uneaten letters to the screen, each one of them on a separate line.\n",
    "# Test your program with the data we've provided for you."
   ]
  },
  {
   "cell_type": "code",
   "execution_count": null,
   "id": "5cfd07ea",
   "metadata": {},
   "outputs": [],
   "source": [
    "def vowel(user_word):\n",
    "    v=('a','e','i','o','u')\n",
    "    for i in v:\n",
    "        if i in v:\n",
    "            user_word=user_word.replace(i,'')\n",
    "    print(user_word.upper())\n",
    "    return user_word\n",
    "\n",
    "user_word=input('enter any word ')\n",
    "print(user_word.upper())\n",
    "vowel(user_word)"
   ]
  }
 ],
 "metadata": {
  "kernelspec": {
   "display_name": "Python 3",
   "language": "python",
   "name": "python3"
  },
  "language_info": {
   "codemirror_mode": {
    "name": "ipython",
    "version": 3
   },
   "file_extension": ".py",
   "mimetype": "text/x-python",
   "name": "python",
   "nbconvert_exporter": "python",
   "pygments_lexer": "ipython3",
   "version": "3.8.8"
  }
 },
 "nbformat": 4,
 "nbformat_minor": 5
}
