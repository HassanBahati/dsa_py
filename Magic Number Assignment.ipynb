{
 "cells": [
  {
   "cell_type": "code",
   "execution_count": 1,
   "id": "4d9ca5dc",
   "metadata": {},
   "outputs": [],
   "source": [
    "#ALGORITHM\n",
    "#enter an integer number\n",
    "#store a pre-defined integer in variable secret_number\n",
    "#check if the number entered is same as secret_number, \n",
    "#if yes, print(\"Well done, muggle! You are free now.\")\n",
    "#if no, print(\"Ha ha! You're stuck in my loop!\"), and continue \n",
    "\n"
   ]
  },
  {
   "cell_type": "code",
   "execution_count": 19,
   "id": "5cfe7d55",
   "metadata": {},
   "outputs": [
    {
     "name": "stdout",
     "output_type": "stream",
     "text": [
      "Enter any number to guess the secret number game7\n",
      "Ha ha! You're stuck in my loop!\n",
      "Enter any number to guess the secret number game9\n",
      "Ha ha! You're stuck in my loop!\n",
      "Enter any number to guess the secret number game3\n",
      "You entered 3\n",
      "Well done, muggle! You are free now.\n"
     ]
    }
   ],
   "source": [
    "secret_number = 3\n",
    "while True:\n",
    "    \n",
    "    number = int(input(\"Enter any number to guess the secret number game\"))\n",
    "    if secret_number == number:\n",
    "        print(f\"You entered {number}\")\n",
    "        print(\"Well done, muggle! You are free now.\")\n",
    "        break\n",
    "    else:\n",
    "        print(\"Ha ha! You're stuck in my loop!\")\n",
    "        continue\n",
    "    "
   ]
  },
  {
   "cell_type": "code",
   "execution_count": null,
   "id": "00ba9ee4",
   "metadata": {},
   "outputs": [],
   "source": []
  },
  {
   "cell_type": "code",
   "execution_count": null,
   "id": "eb6c4b6a",
   "metadata": {},
   "outputs": [],
   "source": []
  }
 ],
 "metadata": {
  "kernelspec": {
   "display_name": "Python 3",
   "language": "python",
   "name": "python3"
  },
  "language_info": {
   "codemirror_mode": {
    "name": "ipython",
    "version": 3
   },
   "file_extension": ".py",
   "mimetype": "text/x-python",
   "name": "python",
   "nbconvert_exporter": "python",
   "pygments_lexer": "ipython3",
   "version": "3.8.8"
  }
 },
 "nbformat": 4,
 "nbformat_minor": 5
}
