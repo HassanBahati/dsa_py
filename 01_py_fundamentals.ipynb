{
 "cells": [
  {
   "cell_type": "markdown",
   "metadata": {
    "id": "oKQ_vxKTBNgq"
   },
   "source": [
    "# Python Fundamentals"
   ]
  },
  {
   "cell_type": "markdown",
   "metadata": {
    "id": "qcN3RqzAIMnh"
   },
   "source": [
    "## Language overview\n",
    "\n",
    "Note: this is *not* a language course! You are expected you to master the language in your own time.\n",
    "\n",
    "Python ...\n",
    "\n",
    "- is *interpreted*\n",
    "- is *dynamically-typed* (vs. statically typed)\n",
    "- is *automatically memory-managed*\n",
    "- supports *procedural*, *object-oriented*, *imperative* and *functional* programming paradigms\n",
    "- has a single reference implementation (CPython)\n",
    "- version 3 (the most recent version) is *not backwards-compatible* with version 2, though the latter is still widely used\n",
    "- has an interesting programming philosophy: \"There should be one — and preferably only one — obvious way to do it.\" (a.k.a. the \"Pythonic\" way) — see [The Zen of Python](https://www.python.org/dev/peps/pep-0020/)"
   ]
  },
  {
   "cell_type": "markdown",
   "metadata": {
    "id": "xsLB1f4Y40Kl"
   },
   "source": [
    "## Variables, handling Strings etc"
   ]
  },
  {
   "cell_type": "code",
   "execution_count": null,
   "metadata": {
    "scrolled": true
   },
   "outputs": [
    {
     "name": "stdout",
     "output_type": "stream",
     "text": [
      "Hello world!\n",
      "What is your name: \n"
     ]
    }
   ],
   "source": [
    "print(\"Hello world!\")\n",
    "print(\"What is your name: \")\n",
    "name = input(\"What is your name: \")\n",
    "print(\"Nice to see you:\", name, sep=\"*****\")\n",
    "print(\"Nice to see you: \" + name)\n",
    "print(f\"Nice to see you: , {name}\")\n",
    "print('')\n",
    "print('', end=\"&&&&&\")\n",
    "#print(\"\")\n",
    "print(\"Actually \"+ name + \" is my \\\"friend\\\"\")\n",
    "print('Actually '+ name + ' is my \"friend\"')\n"
   ]
  },
  {
   "cell_type": "code",
   "execution_count": null,
   "metadata": {},
   "outputs": [],
   "source": [
    "# print function \n",
    "# print(*object, sep='', end='\\n', file=sys.stdout, flush=False)\n"
   ]
  },
  {
   "cell_type": "code",
   "execution_count": null,
   "metadata": {
    "scrolled": true
   },
   "outputs": [],
   "source": [
    "name = input(\"What is your name: \")\n",
    "name = name.strip()\n",
    "name = name.capitalize()\n",
    "name = name.title()\n",
    "print(name)\n",
    "myName = input(\"What is your name? \").strip().title()\n",
    "print(myName)"
   ]
  },
  {
   "cell_type": "markdown",
   "metadata": {},
   "source": [
    "### Comment in Python"
   ]
  },
  {
   "cell_type": "code",
   "execution_count": null,
   "metadata": {},
   "outputs": [],
   "source": [
    "# this is comment 1\n",
    "# this is comment 2\n",
    "\"\"\"\n",
    "Comment line 1\n",
    "Comment line 2\n",
    "Comment line 3\n",
    "\n",
    "\"\"\""
   ]
  },
  {
   "cell_type": "code",
   "execution_count": null,
   "metadata": {
    "scrolled": true
   },
   "outputs": [],
   "source": [
    "x = 50\n",
    "y = 20\n",
    "z = x + y\n",
    "print(z)\n",
    "\n",
    "#x = int(input(\" x = \"))\n",
    "#y = int(input(\" y = \"))\n",
    "#z = x + y\n",
    "#print(z)\n",
    "\n",
    "x = input(\" x = \")\n",
    "y = input(\" y = \")\n",
    "z = int(x) + int(y)\n",
    "print(z)\n",
    "\n",
    "x = float(input(\" x = \"))\n",
    "y = float(input(\" y = \"))\n",
    "z = x + y\n",
    "print(z)"
   ]
  },
  {
   "cell_type": "markdown",
   "metadata": {},
   "source": [
    "round(number[, ndigits) "
   ]
  },
  {
   "cell_type": "code",
   "execution_count": null,
   "metadata": {
    "scrolled": true
   },
   "outputs": [],
   "source": [
    "x = float(input(\" x = \"))\n",
    "y = float(input(\" y = \"))\n",
    "z = round(x/y, 3) #ceil, floor\n",
    "print(z)\n",
    "print(f\"{z:.2f}\")\n"
   ]
  },
  {
   "cell_type": "code",
   "execution_count": null,
   "metadata": {},
   "outputs": [],
   "source": [
    "x = int(input(\" x = \"))\n",
    "y = int(input(\" y = \"))\n",
    "z = x * y\n",
    "print(f\"{z:,}\")"
   ]
  },
  {
   "cell_type": "markdown",
   "metadata": {
    "id": "xPUSfNyE6DVW"
   },
   "source": [
    "## Selection statements\n"
   ]
  },
  {
   "cell_type": "markdown",
   "metadata": {
    "id": "3K1mqM-p6ZLI"
   },
   "source": [
    "## Functions\n",
    "\n",
    "*A function is like a miniprogram within a program*\n",
    "*methods*\n",
    "\n",
    "def name(parameters):\n",
    "    statements"
   ]
  },
  {
   "cell_type": "code",
   "execution_count": null,
   "metadata": {
    "id": "q83FUAyW64hQ"
   },
   "outputs": [],
   "source": [
    "def main():\n",
    "    myName = input(\"Enter your name: \")\n",
    "    hello()\n",
    "    \n",
    "def hello():\n",
    "    print(\"Hello world\")\n",
    "    print(\"Hello world\")\n",
    "    print(\"Hello world\")\n",
    "\n",
    "main()\n",
    "#hello()\n",
    "  "
   ]
  },
  {
   "cell_type": "code",
   "execution_count": null,
   "metadata": {},
   "outputs": [],
   "source": [
    "## Demonstrate the scope of variables.\n",
    "def main():\n",
    "    x = 2\n",
    "    print(str(x) + \": function main\")\n",
    "    trivial()\n",
    "    print(str(x) + \": function main\")\n",
    "\n",
    "def trivial():\n",
    "    x = 3\n",
    "    print(str(x) + \": function trivial\")\n",
    "\n",
    "main()    \n"
   ]
  },
  {
   "cell_type": "markdown",
   "metadata": {},
   "source": [
    "### Question: Write a function that calculates a cube of a given value."
   ]
  },
  {
   "cell_type": "code",
   "execution_count": null,
   "metadata": {},
   "outputs": [],
   "source": [
    "def main():\n",
    "    value = int(input(\"Enter the value: \"))\n",
    "    print(value, \" to power 3 = \", cubed(value), sep=\"\" )\n",
    "    \n",
    "def cubed(n): # parameter or argument\n",
    "    return n * n * n # n ** 3, pow(n, 3)\n",
    "\n",
    "main()"
   ]
  },
  {
   "cell_type": "markdown",
   "metadata": {
    "id": "NovsMT7349Dm"
   },
   "source": [
    "## Control Statements"
   ]
  },
  {
   "cell_type": "markdown",
   "metadata": {
    "id": "xvCGsUoa5NUR"
   },
   "source": [
    "### whole ... statement\n",
    "\n",
    "Syntax:\n",
    "\n",
    "while condition:\n",
    "  statements"
   ]
  },
  {
   "cell_type": "code",
   "execution_count": null,
   "metadata": {
    "id": "vDp0FzNkY8Uh"
   },
   "outputs": [],
   "source": [
    "# example:\n",
    "count = 1\n",
    "while (count < 10):\n",
    "    print(\"hello whole\")\n",
    "    if count == 5:\n",
    "        break\n",
    "    count = count +1"
   ]
  },
  {
   "cell_type": "code",
   "execution_count": null,
   "metadata": {},
   "outputs": [],
   "source": [
    "# example:\n",
    "\n",
    "while True:\n",
    "    print(\"hello whole\")\n",
    "    stopper = int(input(\"Enter 0 to stop \"))\n",
    "    if stopper != 0:\n",
    "        continue\n",
    "    print(\"hello whole\")"
   ]
  },
  {
   "cell_type": "markdown",
   "metadata": {
    "id": "2MhFOi5T59CY"
   },
   "source": [
    "### for ... loop"
   ]
  },
  {
   "cell_type": "markdown",
   "metadata": {},
   "source": [
    "How can we write a \"for\" or \"while\" loop that prints out all the multiples of 3 down from 100 to 0 in descending order?"
   ]
  },
  {
   "cell_type": "code",
   "execution_count": null,
   "metadata": {},
   "outputs": [],
   "source": [
    "for i in reversed(range(100)):\n",
    "    if i%3==0:\n",
    "        print(i)"
   ]
  },
  {
   "cell_type": "markdown",
   "metadata": {},
   "source": [
    "### Multiplication table example."
   ]
  },
  {
   "cell_type": "code",
   "execution_count": null,
   "metadata": {},
   "outputs": [],
   "source": [
    "def main():\n",
    "    multiplier(12)\n",
    "    \n",
    "def multiplier(size):\n",
    "    for i in range(1, size+1):\n",
    "        for j in range(1, size+1):\n",
    "            print(f\"{str(i*j):>4}\", end=\"\")\n",
    "        print()\n",
    "        \n",
    "main()"
   ]
  },
  {
   "cell_type": "markdown",
   "metadata": {},
   "source": [
    "## Exercises 1"
   ]
  },
  {
   "cell_type": "markdown",
   "metadata": {},
   "source": [
    "### Question 1\n",
    "0<250000 Nil PAYE\n",
    "250000 < 350000 PAYE is 10% of the amount that exceeds 250,000\n",
    "350,0000 - 450,000 PAYE is 10,000 + 20% of the amount that exceeds 350,000\n",
    "and the rest pay PAYE of 30,000 + 30% of the amount that exceeds 450,000 \n",
    "Develop a PAYE calculator\n",
    "\n",
    "- if --- statements "
   ]
  },
  {
   "cell_type": "code",
   "execution_count": null,
   "metadata": {},
   "outputs": [],
   "source": [
    "# Question 1 Solution\n",
    "amount = int(input(\"Enter the amount: \"))\n",
    "\n",
    "if amount >= 0 and amount < 250000:\n",
    "    print(\"The PAYE is zero\")\n",
    "elif amount >= 250000 and amount < 350000:\n",
    "    taxable = amount - 250000\n",
    "    paye = 0.1 * taxable\n",
    "    print(f\"The PAYE is {paye} UGX\")\n",
    "elif amount >= 350000 and amount <= 450000:\n",
    "    taxable = 350000 - amount\n",
    "    paye = 10000 + (0.2 * taxable)\n",
    "    print(f\"The PAYE is {paye} UGX\")\n",
    "elif amount > 450000:\n",
    "    taxable = 450000 - amount\n",
    "    paye = 30000 + (0.3 * taxable)\n",
    "    print(f\"The PAYE is {paye} UGX\")\n"
   ]
  },
  {
   "cell_type": "markdown",
   "metadata": {},
   "source": [
    "### Question 2\n",
    "Write a function that extracts the first name from a full name"
   ]
  },
  {
   "cell_type": "code",
   "execution_count": null,
   "metadata": {},
   "outputs": [],
   "source": [
    "# Question 2 Solution\n",
    "def first_name(name):#defining the function with name as the parameter\n",
    "    return name[0:name.find(\" \")]#returning the first name\n",
    "def main():\n",
    "    name=input(\"Enter your ful name \")#asking the user to enter the name\n",
    "    print(\"the first name is \",first_name(name))\n",
    "main()"
   ]
  },
  {
   "cell_type": "markdown",
   "metadata": {},
   "source": [
    "### Question 3\n",
    "Write a function that converts fahrenheit temperature to celsius"
   ]
  },
  {
   "cell_type": "code",
   "execution_count": null,
   "metadata": {},
   "outputs": [],
   "source": [
    "# Question 3 Solution\n",
    "def celsius_to_fahrenheit(celsius):#defining the function with celsius as the parameter\n",
    "    return celsius*1.8+32#returning the fahrenheit value\n",
    "def main():\n",
    "    celsius=eval(input(\"Enter the celsius value\"))#asking the user to enter the celsius value\n",
    "    print(\"The fahrenheit value is \",celsius_to_fahrenheit(celsius))#printing the fahrenheit value\n",
    "main()"
   ]
  },
  {
   "cell_type": "markdown",
   "metadata": {},
   "source": [
    "### Question 4\n",
    "Write a function that determine if a word contains every vowel."
   ]
  },
  {
   "cell_type": "code",
   "execution_count": null,
   "metadata": {},
   "outputs": [],
   "source": [
    "# Question 4 Solution\n",
    "def check_vowels(word):\n",
    "    if \"a\" in word and \"e\" in word and \"i\" in word and \"o\" in word and \"u\" in word:\n",
    "        print(\"The word contains all vowels\")\n",
    "    if \"a\" in word or \"e\" in word or \"i\" in word or \"o\" in word or \"u\" in word:\n",
    "        print(\"The word contains some vowels\")\n",
    "    if \"a\" not in word and \"e\" not in word and \"i\" not in word and \"o\" not in word and \"u\" not in word:\n",
    "        print(\"The word contains no vowels\")\n",
    "\n",
    "\n",
    "def main():\n",
    "    word = input(\"Type word here:\")\n",
    "    check_vowels(word)\n",
    "\n",
    "\n",
    "main()\n"
   ]
  },
  {
   "cell_type": "code",
   "execution_count": null,
   "metadata": {},
   "outputs": [],
   "source": []
  },
  {
   "cell_type": "code",
   "execution_count": null,
   "metadata": {},
   "outputs": [],
   "source": []
  }
 ],
 "metadata": {
  "colab": {
   "authorship_tag": "ABX9TyP6ltp93WhF+9Iiy7VzI8oo",
   "name": "01_py_fundamentals.ipynb",
   "provenance": []
  },
  "interpreter": {
   "hash": "916dbcbb3f70747c44a77c7bcd40155683ae19c65e1c03b4aa3499c5328201f1"
  },
  "kernelspec": {
   "display_name": "Python 3",
   "language": "python",
   "name": "python3"
  },
  "language_info": {
   "codemirror_mode": {
    "name": "ipython",
    "version": 3
   },
   "file_extension": ".py",
   "mimetype": "text/x-python",
   "name": "python",
   "nbconvert_exporter": "python",
   "pygments_lexer": "ipython3",
   "version": "3.8.10"
  }
 },
 "nbformat": 4,
 "nbformat_minor": 1
}
